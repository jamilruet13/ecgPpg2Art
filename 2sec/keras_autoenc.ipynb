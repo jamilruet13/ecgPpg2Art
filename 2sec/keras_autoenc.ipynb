{
 "cells": [
  {
   "cell_type": "code",
   "execution_count": null,
   "metadata": {
    "collapsed": true
   },
   "outputs": [],
   "source": [
    "reset -sf"
   ]
  },
  {
   "cell_type": "code",
   "execution_count": 427,
   "metadata": {},
   "outputs": [],
   "source": [
    "import sys\n",
    "import os\n",
    "import numpy as np \n",
    "import pandas as pd\n",
    "from pathlib import Path\n",
    "from numpy import array\n",
    "\n",
    "from keras import optimizers\n",
    "from keras import regularizers\n",
    "from keras.models import Sequential, Model\n",
    "from keras.layers import Dense, BatchNormalization, Conv1D, \\\n",
    "                        MaxPooling1D, Flatten, Dropout, GlobalMaxPooling1D,Input,Concatenate,Merge, \\\n",
    "                        concatenate, Reshape, UpSampling1D,add, LeakyReLU\n",
    "from keras.regularizers import l2\n",
    "from keras.models import model_from_json\n",
    "\n",
    "from sklearn.metrics import explained_variance_score, mean_absolute_error, mean_squared_error, r2_score\n",
    "from sklearn.preprocessing import StandardScaler,MinMaxScaler\n",
    "from sklearn.externals import joblib \n",
    "\n",
    "import matplotlib.pyplot as plt"
   ]
  },
  {
   "cell_type": "code",
   "execution_count": null,
   "metadata": {
    "collapsed": true
   },
   "outputs": [],
   "source": [
    "PATH = Path(\"../../data/\")"
   ]
  },
  {
   "cell_type": "code",
   "execution_count": 67,
   "metadata": {},
   "outputs": [
    {
     "name": "stdout",
     "output_type": "stream",
     "text": [
      "(8126, 2500) (8126, 1250)\n",
      "(1016, 2500) (1016, 1250)\n",
      "(1016, 2500) (1016, 1250)\n",
      "[1.0743 1.0802 1.1212 1.2092 1.35   1.5396 1.7664 2.0088 2.2473 2.4399]\n"
     ]
    }
   ],
   "source": [
    "dfX_Train = np.load(PATH/'train_x.npy')\n",
    "dfX_Val = np.load(PATH/'val_x.npy') \n",
    "dfX_Test = np.load(PATH/'test_x.npy')\n",
    "dfY_Train = np.load(PATH/'train_y.npy')\n",
    "dfY_Val = np.load(PATH/'val_y.npy')\n",
    "dfY_Test = np.load(PATH/'test_y.npy')\n",
    "print(dfX_Train.shape, dfY_Train.shape)\n",
    "print(dfX_Val.shape, dfY_Val.shape)\n",
    "print(dfX_Test.shape, dfY_Test.shape)\n",
    "print(dfX_Train[0,:10])"
   ]
  },
  {
   "cell_type": "code",
   "execution_count": 283,
   "metadata": {
    "collapsed": true
   },
   "outputs": [],
   "source": [
    "history=None\n",
    "freq = 125\n",
    "ini = 0 #freq\n",
    "dim = freq * 2\n",
    "ecg = 1250"
   ]
  },
  {
   "cell_type": "code",
   "execution_count": 319,
   "metadata": {
    "collapsed": true
   },
   "outputs": [],
   "source": [
    "trainY_n = dfY_Train[:,ini:ini+dim]\n",
    "valY_n = dfY_Val[:,ini:ini+dim]\n",
    "testY_n = dfY_Test[:,ini:ini+dim]"
   ]
  },
  {
   "cell_type": "code",
   "execution_count": 320,
   "metadata": {},
   "outputs": [
    {
     "name": "stdout",
     "output_type": "stream",
     "text": [
      "4.5 -3.498 0.8156937694160916\n",
      "(8126, 250, 2) (1016, 250, 2) (1016, 250, 2) (8126, 250) (1016, 250) (1016, 250)\n"
     ]
    }
   ],
   "source": [
    "trainX_0_n = dfX_Train [:,ini:ini+dim]\n",
    "trainX_1_n = dfX_Train [:,ini+ecg:ini+ecg+dim]\n",
    "\n",
    "valX_0_n =dfX_Val [:,ini:ini+dim]\n",
    "valX_1_n = dfX_Val[:,ecg+ini:ini+ecg+dim]\n",
    "\n",
    "testX_0_n = dfX_Test[:,ini:ini+dim]\n",
    "testX_1_n = dfX_Test[:,ecg+ini:ini+ecg+dim]\n",
    "\n",
    "trainX_n = np.stack((trainX_0_n, trainX_1_n), axis=2)\n",
    "valX_n = np.stack((valX_0_n,valX_1_n), axis=2)\n",
    "testX_n = np.stack((testX_0_n, testX_1_n), axis=2)\n",
    "\n",
    "print(trainX_n.max(), trainX_n.min(), trainX_n.std())\n",
    "print(trainX_n.shape, valX_n.shape, testX_n.shape, trainY_n.shape, valY_n.shape, testY_n.shape)"
   ]
  },
  {
   "cell_type": "code",
   "execution_count": 321,
   "metadata": {
    "collapsed": true
   },
   "outputs": [],
   "source": [
    "# Standardize"
   ]
  },
  {
   "cell_type": "code",
   "execution_count": 322,
   "metadata": {},
   "outputs": [
    {
     "name": "stdout",
     "output_type": "stream",
     "text": [
      "(250,)\n",
      "(250,)\n"
     ]
    }
   ],
   "source": [
    "scaler_ppg = StandardScaler().fit(trainX_n[:,:,0])\n",
    "scaler_ecg = StandardScaler().fit(trainX_n[:,:,1])\n",
    "print(scaler_ppg.mean_.shape)\n",
    "print(scaler_ecg.mean_.shape)"
   ]
  },
  {
   "cell_type": "code",
   "execution_count": 323,
   "metadata": {},
   "outputs": [
    {
     "name": "stdout",
     "output_type": "stream",
     "text": [
      "12.232114683629453 -11.461019164899536 1.0000000000000004\n",
      "(8126, 250, 2) (1016, 250, 2) (1016, 250, 2) (8126, 250) (1016, 250) (1016, 250)\n"
     ]
    }
   ],
   "source": [
    "trainX_n = np.stack((scaler_ppg.transform(trainX_n[:,:,0]).reshape(-1,dim), scaler_ecg.transform(trainX_n[:,:,1]).reshape(-1,dim)), axis=2)\n",
    "valX_n = np.stack((scaler_ppg.transform(valX_n[:,:,0]).reshape(-1,dim), scaler_ecg.transform(valX_n[:,:,1]).reshape(-1,dim)), axis=2)\n",
    "testX_n = np.stack((scaler_ppg.transform(testX_n[:,:,0]).reshape(-1,dim), scaler_ecg.transform(testX_n[:,:,1]).reshape(-1,dim)), axis=2)\n",
    "\n",
    "print(trainX_n.max(), trainX_n.min(), trainX_n.std())\n",
    "print(trainX_n.shape, valX_n.shape, testX_n.shape, trainY_n.shape, valY_n.shape, testY_n.shape)"
   ]
  },
  {
   "cell_type": "code",
   "execution_count": 289,
   "metadata": {
    "collapsed": true
   },
   "outputs": [],
   "source": [
    "#Data Aug"
   ]
  },
  {
   "cell_type": "code",
   "execution_count": 324,
   "metadata": {},
   "outputs": [
    {
     "data": {
      "image/png": "[encoded data removed]",
      "text/plain": [
       "<Figure size 864x648 with 9 Axes>"
      ]
     },
     "metadata": {},
     "output_type": "display_data"
    }
   ],
   "source": [
    "plt.figure(figsize=(12,9))\n",
    "\n",
    "ax = plt.subplot(3,3,1)\n",
    "ax.axvline(np.mean(trainY_n.max(axis=1)),c=\"r\")\n",
    "ax.hist(trainY_n.max(axis=1))\n",
    "\n",
    "ax = plt.subplot(3,3,2)\n",
    "ax.hist(trainY_n.min(axis=1))\n",
    "ax.axvline(np.mean(trainY_n.min(axis=1)),c=\"r\")\n",
    "ax.set_xlim(40,175)\n",
    "\n",
    "ax = plt.subplot(3,3,3)\n",
    "ax.hist(trainY_n.std(axis=1))\n",
    "ax.axvline(np.mean(trainY_n.std(axis=1)),c=\"r\")\n",
    "ax.set_xlim(0,50)\n",
    "\n",
    "ax = plt.subplot(3,3,4)\n",
    "ax.hist(valY_n.max(axis=1))\n",
    "ax.axvline(np.mean(trainY_n.max(axis=1)),c=\"r\")\n",
    "\n",
    "ax = plt.subplot(3,3,5)\n",
    "ax.hist(valY_n.min(axis=1))\n",
    "ax.axvline(np.mean(trainY_n.min(axis=1)),c=\"r\")\n",
    "ax.set_xlim(40,175)\n",
    "\n",
    "ax = plt.subplot(3,3,6)\n",
    "ax.hist(valY_n.std(axis=1))\n",
    "ax.axvline(np.mean(trainY_n.std(axis=1)),c=\"r\")\n",
    "ax.set_xlim(0,50)\n",
    "\n",
    "ax = plt.subplot(3,3,7)\n",
    "ax.hist(testY_n.max(axis=1))\n",
    "ax.axvline(np.mean(trainY_n.max(axis=1)),c=\"r\")\n",
    "\n",
    "ax = plt.subplot(3,3,8)\n",
    "ax.hist(testY_n.min(axis=1))\n",
    "ax.axvline(np.mean(trainY_n.min(axis=1)),c=\"r\")\n",
    "ax.set_xlim(40,175)\n",
    "\n",
    "ax = plt.subplot(3,3,9)\n",
    "ax.hist(testY_n.std(axis=1))\n",
    "ax.axvline(np.mean(trainY_n.std(axis=1)),c=\"r\")\n",
    "ax.set_xlim(0,50)\n",
    "\n",
    "plt.show()"
   ]
  },
  {
   "cell_type": "code",
   "execution_count": 169,
   "metadata": {},
   "outputs": [
    {
     "name": "stdout",
     "output_type": "stream",
     "text": [
      "(10979, 250, 2) (10979, 250)\n"
     ]
    }
   ],
   "source": [
    "\"\"\"\n",
    "mx = trainY_n.max(axis=1)\n",
    "\n",
    "trainX_n = np.vstack((trainX_n,\n",
    "                      trainX_n[mx<90],\n",
    "                      trainX_n[mx<90],\n",
    "                      trainX_n[mx<90],\n",
    "                      trainX_n[np.logical_or(mx<90, mx>160),:], \n",
    "                      trainX_n[np.logical_or(mx<90, mx>160),:]))\n",
    "trainY_n = np.vstack((trainY_n,\n",
    "                      trainY_n[mx<90],\n",
    "                      trainY_n[mx<90],\n",
    "                      trainY_n[mx<90],\n",
    "                      trainY_n[np.logical_or(mx<90, mx>160),:], \n",
    "                      trainY_n[np.logical_or(mx<90, mx>160),:]))\n",
    "\n",
    "print(trainX_n.shape, trainY_n.shape)\n",
    "\"\"\""
   ]
  },
  {
   "cell_type": "code",
   "execution_count": 326,
   "metadata": {},
   "outputs": [
    {
     "name": "stdout",
     "output_type": "stream",
     "text": [
      "(9946, 250, 2) (9946, 250)\n"
     ]
    }
   ],
   "source": [
    "mn = trainY_n.min(axis=1)\n",
    "\n",
    "trainX_n = np.vstack((trainX_n,\n",
    "                      trainX_n[np.logical_and(mn>70, mn<90),:],\n",
    "                      trainX_n[mn>100,:]))\n",
    "trainY_n = np.vstack((trainY_n,\n",
    "                      trainY_n[np.logical_and(mn>70, mn<90),:],\n",
    "                      trainY_n[mn>100,:]))\n",
    "\n",
    "print(trainX_n.shape, trainY_n.shape)"
   ]
  },
  {
   "cell_type": "code",
   "execution_count": null,
   "metadata": {
    "collapsed": true
   },
   "outputs": [],
   "source": [
    "#Build network"
   ]
  },
  {
   "cell_type": "code",
   "execution_count": 442,
   "metadata": {
    "collapsed": true
   },
   "outputs": [],
   "source": [
    "d = 0.3\n",
    "wd = 1e-4\n",
    "residual = True"
   ]
  },
  {
   "cell_type": "code",
   "execution_count": 443,
   "metadata": {
    "scrolled": false
   },
   "outputs": [
    {
     "name": "stdout",
     "output_type": "stream",
     "text": [
      "__________________________________________________________________________________________________\n",
      "Layer (type)                    Output Shape         Param #     Connected to                     \n",
      "==================================================================================================\n",
      "input_101 (InputLayer)          (None, 250, 2)       0                                            \n",
      "__________________________________________________________________________________________________\n",
      "conv1d_666 (Conv1D)             (None, 250, 128)     2432        input_101[0][0]                  \n",
      "__________________________________________________________________________________________________\n",
      "conv1d_667 (Conv1D)             (None, 250, 128)     147584      conv1d_666[0][0]                 \n",
      "__________________________________________________________________________________________________\n",
      "conv1d_668 (Conv1D)             (None, 250, 128)     147584      conv1d_667[0][0]                 \n",
      "__________________________________________________________________________________________________\n",
      "batch_normalization_566 (BatchN (None, 250, 128)     512         conv1d_668[0][0]                 \n",
      "__________________________________________________________________________________________________\n",
      "dropout_553 (Dropout)           (None, 250, 128)     0           batch_normalization_566[0][0]    \n",
      "__________________________________________________________________________________________________\n",
      "leaky_re_lu_222 (LeakyReLU)     (None, 250, 128)     0           dropout_553[0][0]                \n",
      "__________________________________________________________________________________________________\n",
      "conv1d_669 (Conv1D)             (None, 125, 64)      73792       leaky_re_lu_222[0][0]            \n",
      "__________________________________________________________________________________________________\n",
      "conv1d_670 (Conv1D)             (None, 125, 64)      36928       conv1d_669[0][0]                 \n",
      "__________________________________________________________________________________________________\n",
      "conv1d_671 (Conv1D)             (None, 125, 64)      36928       conv1d_670[0][0]                 \n",
      "__________________________________________________________________________________________________\n",
      "batch_normalization_567 (BatchN (None, 125, 64)      256         conv1d_671[0][0]                 \n",
      "__________________________________________________________________________________________________\n",
      "dropout_554 (Dropout)           (None, 125, 64)      0           batch_normalization_567[0][0]    \n",
      "__________________________________________________________________________________________________\n",
      "leaky_re_lu_223 (LeakyReLU)     (None, 125, 64)      0           dropout_554[0][0]                \n",
      "__________________________________________________________________________________________________\n",
      "conv1d_672 (Conv1D)             (None, 25, 32)       18464       leaky_re_lu_223[0][0]            \n",
      "__________________________________________________________________________________________________\n",
      "conv1d_673 (Conv1D)             (None, 25, 32)       9248        conv1d_672[0][0]                 \n",
      "__________________________________________________________________________________________________\n",
      "conv1d_674 (Conv1D)             (None, 25, 32)       9248        conv1d_673[0][0]                 \n",
      "__________________________________________________________________________________________________\n",
      "batch_normalization_568 (BatchN (None, 25, 32)       128         conv1d_674[0][0]                 \n",
      "__________________________________________________________________________________________________\n",
      "dropout_555 (Dropout)           (None, 25, 32)       0           batch_normalization_568[0][0]    \n",
      "__________________________________________________________________________________________________\n",
      "leaky_re_lu_224 (LeakyReLU)     (None, 25, 32)       0           dropout_555[0][0]                \n",
      "__________________________________________________________________________________________________\n",
      "max_pooling1d_255 (MaxPooling1D (None, 5, 32)        0           leaky_re_lu_224[0][0]            \n",
      "__________________________________________________________________________________________________\n",
      "conv1d_675 (Conv1D)             (None, 5, 32)        9248        max_pooling1d_255[0][0]          \n",
      "__________________________________________________________________________________________________\n",
      "conv1d_676 (Conv1D)             (None, 5, 32)        9248        conv1d_675[0][0]                 \n",
      "__________________________________________________________________________________________________\n",
      "conv1d_677 (Conv1D)             (None, 5, 32)        9248        conv1d_676[0][0]                 \n",
      "__________________________________________________________________________________________________\n",
      "batch_normalization_569 (BatchN (None, 5, 32)        128         conv1d_677[0][0]                 \n",
      "__________________________________________________________________________________________________\n",
      "dropout_556 (Dropout)           (None, 5, 32)        0           batch_normalization_569[0][0]    \n",
      "__________________________________________________________________________________________________\n",
      "leaky_re_lu_225 (LeakyReLU)     (None, 5, 32)        0           dropout_556[0][0]                \n",
      "__________________________________________________________________________________________________\n",
      "up_sampling1d_260 (UpSampling1D (None, 25, 32)       0           leaky_re_lu_225[0][0]            \n",
      "__________________________________________________________________________________________________\n",
      "add_147 (Add)                   (None, 25, 32)       0           leaky_re_lu_224[0][0]            \n",
      "                                                                 up_sampling1d_260[0][0]          \n",
      "__________________________________________________________________________________________________\n",
      "conv1d_678 (Conv1D)             (None, 25, 64)       18496       add_147[0][0]                    \n",
      "__________________________________________________________________________________________________\n",
      "conv1d_679 (Conv1D)             (None, 25, 64)       36928       conv1d_678[0][0]                 \n",
      "__________________________________________________________________________________________________\n",
      "conv1d_680 (Conv1D)             (None, 25, 64)       36928       conv1d_679[0][0]                 \n",
      "__________________________________________________________________________________________________\n",
      "batch_normalization_570 (BatchN (None, 25, 64)       256         conv1d_680[0][0]                 \n",
      "__________________________________________________________________________________________________\n",
      "dropout_557 (Dropout)           (None, 25, 64)       0           batch_normalization_570[0][0]    \n",
      "__________________________________________________________________________________________________\n",
      "leaky_re_lu_226 (LeakyReLU)     (None, 25, 64)       0           dropout_557[0][0]                \n",
      "__________________________________________________________________________________________________\n",
      "up_sampling1d_261 (UpSampling1D (None, 125, 64)      0           leaky_re_lu_226[0][0]            \n",
      "__________________________________________________________________________________________________\n",
      "add_148 (Add)                   (None, 125, 64)      0           leaky_re_lu_223[0][0]            \n",
      "                                                                 up_sampling1d_261[0][0]          \n",
      "__________________________________________________________________________________________________\n",
      "conv1d_681 (Conv1D)             (None, 125, 128)     73856       add_148[0][0]                    \n",
      "__________________________________________________________________________________________________\n",
      "conv1d_682 (Conv1D)             (None, 125, 128)     147584      conv1d_681[0][0]                 \n",
      "__________________________________________________________________________________________________\n",
      "conv1d_683 (Conv1D)             (None, 125, 128)     147584      conv1d_682[0][0]                 \n",
      "__________________________________________________________________________________________________\n",
      "batch_normalization_571 (BatchN (None, 125, 128)     512         conv1d_683[0][0]                 \n",
      "__________________________________________________________________________________________________\n",
      "dropout_558 (Dropout)           (None, 125, 128)     0           batch_normalization_571[0][0]    \n",
      "__________________________________________________________________________________________________\n",
      "leaky_re_lu_227 (LeakyReLU)     (None, 125, 128)     0           dropout_558[0][0]                \n",
      "__________________________________________________________________________________________________\n",
      "up_sampling1d_262 (UpSampling1D (None, 250, 128)     0           leaky_re_lu_227[0][0]            \n",
      "__________________________________________________________________________________________________\n",
      "add_149 (Add)                   (None, 250, 128)     0           leaky_re_lu_222[0][0]            \n",
      "                                                                 up_sampling1d_262[0][0]          \n",
      "__________________________________________________________________________________________________\n",
      "conv1d_684 (Conv1D)             (None, 250, 1)       129         add_149[0][0]                    \n",
      "==================================================================================================\n",
      "Total params: 973,249\n",
      "Trainable params: 972,353\n",
      "Non-trainable params: 896\n",
      "__________________________________________________________________________________________________\n"
     ]
    }
   ],
   "source": [
    "input_tensor = Input(shape=(dim,2))\n",
    "x = Conv1D(128, 9, padding='same',kernel_regularizer=l2(wd), bias_regularizer=l2(wd))(input_tensor)\n",
    "x = Conv1D(128, 9, padding='same',kernel_regularizer=l2(wd), bias_regularizer=l2(wd))(x)\n",
    "x = Conv1D(128, 9, padding='same',kernel_regularizer=l2(wd), bias_regularizer=l2(wd))(x)\n",
    "x = BatchNormalization()(x)\n",
    "x = Dropout(d)(x)\n",
    "x_0 = LeakyReLU()(x)\n",
    "\n",
    "x = Conv1D(64, 9, padding='same', strides=2, kernel_regularizer=l2(wd), bias_regularizer=l2(wd))(x_0)\n",
    "x = Conv1D(64, 9, padding='same', kernel_regularizer=l2(wd), bias_regularizer=l2(wd))(x)\n",
    "x = Conv1D(64, 9, padding='same', kernel_regularizer=l2(wd), bias_regularizer=l2(wd))(x)\n",
    "x = BatchNormalization()(x)\n",
    "x = Dropout(d)(x)\n",
    "x_1 = LeakyReLU()(x)\n",
    "\n",
    "x = Conv1D(32, 9, padding='same',strides=5, kernel_regularizer=l2(wd), bias_regularizer=l2(wd))(x_1)\n",
    "x = Conv1D(32, 9, padding='same',kernel_regularizer=l2(wd), bias_regularizer=l2(wd))(x)\n",
    "x = Conv1D(32, 9, padding='same',kernel_regularizer=l2(wd), bias_regularizer=l2(wd))(x)\n",
    "x = BatchNormalization()(x)\n",
    "x = Dropout(d)(x)\n",
    "x_2 = LeakyReLU()(x)\n",
    "\n",
    "encoded = MaxPooling1D(5, padding='same')(x_2)\n",
    "\n",
    "# at this point the representation is (32, 8) i.e. 128-dimensional\n",
    "\n",
    "y = Conv1D(32, 9, padding='same',kernel_regularizer=l2(wd), bias_regularizer=l2(wd))(encoded)\n",
    "y = Conv1D(32, 9, padding='same',kernel_regularizer=l2(wd), bias_regularizer=l2(wd))(y)\n",
    "y = Conv1D(32, 9, padding='same',kernel_regularizer=l2(wd), bias_regularizer=l2(wd))(y)\n",
    "y = BatchNormalization()(y)\n",
    "y = Dropout(d)(y)\n",
    "y = LeakyReLU()(y)\n",
    "\n",
    "y_0 = UpSampling1D(5)(y)\n",
    "if residual: y_0 = add([x_2,y_0])\n",
    "\n",
    "y = Conv1D(64, 9, padding='same',kernel_regularizer=l2(wd), bias_regularizer=l2(wd))(y_0)\n",
    "y = Conv1D(64, 9, padding='same',kernel_regularizer=l2(wd), bias_regularizer=l2(wd))(y)\n",
    "y = Conv1D(64, 9, padding='same',kernel_regularizer=l2(wd), bias_regularizer=l2(wd))(y)\n",
    "y = BatchNormalization()(y)\n",
    "y = Dropout(d)(y)\n",
    "y = LeakyReLU()(y)\n",
    "\n",
    "y_1 = UpSampling1D(5)(y)\n",
    "if residual: y_1 = add([x_1,y_1])\n",
    "\n",
    "y = Conv1D(128, 9, padding='same',kernel_regularizer=l2(wd), bias_regularizer=l2(wd))(y_1)\n",
    "y = Conv1D(128, 9, padding='same',kernel_regularizer=l2(wd), bias_regularizer=l2(wd))(y)\n",
    "y = Conv1D(128, 9, padding='same',kernel_regularizer=l2(wd), bias_regularizer=l2(wd))(y)\n",
    "y = BatchNormalization()(y)\n",
    "y = Dropout(d)(y)\n",
    "y = LeakyReLU()(y)\n",
    "\n",
    "y_2 = UpSampling1D(2)(y)\n",
    "if residual: y_2 = add([x_0,y_2])\n",
    "\n",
    "decoded = Conv1D(1,1)(y_2)\n",
    "\n",
    "autoencoder = Model(input_tensor, decoded)\n",
    "autoencoder.summary()"
   ]
  },
  {
   "cell_type": "code",
   "execution_count": 444,
   "metadata": {
    "scrolled": true
   },
   "outputs": [
    {
     "name": "stdout",
     "output_type": "stream",
     "text": [
      "Train on 9946 samples, validate on 1016 samples\n",
      "Epoch 1/10\n",
      "9946/9946 [==============================] - 52s 5ms/step - loss: 80.5124 - val_loss: 69.2636\n",
      "Epoch 2/10\n",
      "9946/9946 [==============================] - 14s 1ms/step - loss: 52.4355 - val_loss: 52.4970\n",
      "Epoch 3/10\n",
      "9946/9946 [==============================] - 14s 1ms/step - loss: 20.1369 - val_loss: 23.0633\n",
      "Epoch 4/10\n",
      "9946/9946 [==============================] - 14s 1ms/step - loss: 15.3777 - val_loss: 18.1431\n",
      "Epoch 5/10\n",
      "9946/9946 [==============================] - 14s 1ms/step - loss: 14.6512 - val_loss: 14.6302\n",
      "Epoch 6/10\n",
      "9946/9946 [==============================] - 14s 1ms/step - loss: 14.3447 - val_loss: 15.5649\n",
      "Epoch 7/10\n",
      "9946/9946 [==============================] - 14s 1ms/step - loss: 14.0232 - val_loss: 14.3879\n",
      "Epoch 8/10\n",
      "9946/9946 [==============================] - 14s 1ms/step - loss: 13.8583 - val_loss: 15.5572\n",
      "Epoch 9/10\n",
      "9946/9946 [==============================] - 14s 1ms/step - loss: 13.7177 - val_loss: 13.7501\n",
      "Epoch 10/10\n",
      "9946/9946 [==============================] - 14s 1ms/step - loss: 13.5854 - val_loss: 14.2043\n"
     ]
    }
   ],
   "source": [
    "# fit model\n",
    "autoencoder.compile(optimizer=optimizers.Adam(lr=1e-3), loss='mae')\n",
    "history_prev = history\n",
    "history = autoencoder.fit(trainX_n, np.expand_dims(trainY_n, axis=2), \n",
    "                          validation_data=(valX_n, np.expand_dims(valY_n, axis=2)), batch_size=64, epochs=10, verbose=1)"
   ]
  },
  {
   "cell_type": "code",
   "execution_count": 415,
   "metadata": {},
   "outputs": [
    {
     "data": {
      "image/png": "[encoded data removed]",
      "text/plain": [
       "<Figure size 864x360 with 2 Axes>"
      ]
     },
     "metadata": {},
     "output_type": "display_data"
    }
   ],
   "source": [
    "plt.figure(figsize=(12,5))\n",
    "for i in range(2):\n",
    "    if i == 0:\n",
    "        if history_prev is None:\n",
    "            continue\n",
    "        else:\n",
    "            hist = history_prev\n",
    "    else:\n",
    "        hist = history\n",
    "        \n",
    "    loss = hist.history[\"loss\"]\n",
    "    val_loss = hist.history[\"val_loss\"]\n",
    "    epochs = range(1, len(loss) +1)\n",
    "    ax = plt.subplot(1,2,1+i)\n",
    "    ax.plot(epochs, loss, label=\"train\")\n",
    "    ax.plot(epochs, val_loss, label=\"validation\")\n",
    "    ax.set_xticks(epochs, epochs)\n",
    "    ax.set_ylim(10,20)\n",
    "    ax.legend()\n",
    "\n",
    "plt.show()"
   ]
  },
  {
   "cell_type": "code",
   "execution_count": null,
   "metadata": {
    "collapsed": true
   },
   "outputs": [],
   "source": [
    "# Save the weights and architecture"
   ]
  },
  {
   "cell_type": "code",
   "execution_count": 423,
   "metadata": {},
   "outputs": [],
   "source": [
    "autoencoder.save_weights('ae.h5')\n",
    "with open('ae.json', 'w') as f:\n",
    "    f.write(autoencoder.to_json())"
   ]
  },
  {
   "cell_type": "code",
   "execution_count": null,
   "metadata": {
    "collapsed": true
   },
   "outputs": [],
   "source": [
    "#ensemble"
   ]
  },
  {
   "cell_type": "code",
   "execution_count": null,
   "metadata": {
    "scrolled": true
   },
   "outputs": [
    {
     "name": "stdout",
     "output_type": "stream",
     "text": [
      "Increasing lr: 0\n",
      "Train on 9946 samples, validate on 1016 samples\n",
      "Epoch 1/1\n",
      "9946/9946 [==============================] - 52s 5ms/step - loss: 13.2041 - val_loss: 13.6120\n",
      "Decreasing lr: 0\n",
      "Train on 9946 samples, validate on 1016 samples\n",
      "Epoch 1/10\n",
      "9946/9946 [==============================] - 52s 5ms/step - loss: 13.1695 - val_loss: 13.3875\n",
      "Epoch 2/10\n",
      "9946/9946 [==============================] - 14s 1ms/step - loss: 13.0928 - val_loss: 13.0107\n",
      "Epoch 3/10\n",
      "9946/9946 [==============================] - 14s 1ms/step - loss: 13.0777 - val_loss: 13.2595\n",
      "Epoch 4/10\n",
      "9946/9946 [==============================] - 14s 1ms/step - loss: 13.0584 - val_loss: 13.0105\n",
      "Epoch 5/10\n",
      "9946/9946 [==============================] - 14s 1ms/step - loss: 13.0402 - val_loss: 13.2819\n",
      "Epoch 6/10\n",
      "9946/9946 [==============================] - 14s 1ms/step - loss: 12.9757 - val_loss: 13.1417\n",
      "Epoch 7/10\n",
      "9946/9946 [==============================] - 14s 1ms/step - loss: 12.9577 - val_loss: 13.4192\n",
      "Epoch 8/10\n",
      "9946/9946 [==============================] - 14s 1ms/step - loss: 12.9859 - val_loss: 13.1788\n",
      "Epoch 9/10\n",
      "9946/9946 [==============================] - 14s 1ms/step - loss: 12.9625 - val_loss: 13.1853\n",
      "Epoch 10/10\n",
      "9946/9946 [==============================] - 14s 1ms/step - loss: 12.9066 - val_loss: 13.0657\n",
      "Saving model: 0\n",
      "Increasing lr: 1\n",
      "Train on 9946 samples, validate on 1016 samples\n",
      "Epoch 1/1\n",
      "9946/9946 [==============================] - 53s 5ms/step - loss: 12.9278 - val_loss: 13.3838\n",
      "Decreasing lr: 1\n",
      "Train on 9946 samples, validate on 1016 samples\n",
      "Epoch 1/10\n",
      "9946/9946 [==============================] - 53s 5ms/step - loss: 12.9028 - val_loss: 13.3875\n",
      "Epoch 2/10\n",
      "9946/9946 [==============================] - 14s 1ms/step - loss: 12.8648 - val_loss: 13.2548\n",
      "Epoch 3/10\n",
      "9946/9946 [==============================] - 14s 1ms/step - loss: 12.8576 - val_loss: 13.1490\n",
      "Epoch 4/10\n",
      "9946/9946 [==============================] - 14s 1ms/step - loss: 12.8602 - val_loss: 13.0805\n",
      "Epoch 5/10\n",
      "9946/9946 [==============================] - 14s 1ms/step - loss: 12.8404 - val_loss: 13.3063\n",
      "Epoch 6/10\n",
      "9946/9946 [==============================] - 14s 1ms/step - loss: 12.8119 - val_loss: 13.0289\n",
      "Epoch 7/10\n",
      "9946/9946 [==============================] - 14s 1ms/step - loss: 12.8050 - val_loss: 13.2351\n",
      "Epoch 8/10\n",
      "9946/9946 [==============================] - 14s 1ms/step - loss: 12.7850 - val_loss: 13.0747\n",
      "Epoch 9/10\n",
      "9946/9946 [==============================] - 14s 1ms/step - loss: 12.7895 - val_loss: 13.1261\n",
      "Epoch 10/10\n",
      "9946/9946 [==============================] - 14s 1ms/step - loss: 12.7778 - val_loss: 13.4223\n",
      "Saving model: 1\n",
      "Increasing lr: 2\n",
      "Train on 9946 samples, validate on 1016 samples\n",
      "Epoch 1/1\n",
      "9946/9946 [==============================] - 54s 5ms/step - loss: 12.7695 - val_loss: 13.3401\n",
      "Decreasing lr: 2\n",
      "Train on 9946 samples, validate on 1016 samples\n",
      "Epoch 1/10\n",
      "9946/9946 [==============================] - 54s 5ms/step - loss: 12.7955 - val_loss: 13.2253\n",
      "Epoch 2/10\n",
      "9946/9946 [==============================] - 14s 1ms/step - loss: 12.7168 - val_loss: 13.3375\n",
      "Epoch 3/10\n",
      "9946/9946 [==============================] - 14s 1ms/step - loss: 12.6874 - val_loss: 13.0141\n",
      "Epoch 4/10\n",
      "9946/9946 [==============================] - 14s 1ms/step - loss: 12.7059 - val_loss: 13.5996\n",
      "Epoch 5/10\n",
      "9946/9946 [==============================] - 14s 1ms/step - loss: 12.6920 - val_loss: 13.4162\n",
      "Epoch 6/10\n",
      "9946/9946 [==============================] - 14s 1ms/step - loss: 12.6853 - val_loss: 13.2275\n",
      "Epoch 7/10\n",
      "9946/9946 [==============================] - 14s 1ms/step - loss: 12.6393 - val_loss: 13.4547\n",
      "Epoch 8/10\n",
      "9946/9946 [==============================] - 14s 1ms/step - loss: 12.6524 - val_loss: 13.4808\n",
      "Epoch 9/10\n",
      "9946/9946 [==============================] - 14s 1ms/step - loss: 12.6406 - val_loss: 13.1694\n",
      "Epoch 10/10\n",
      "9946/9946 [==============================] - 14s 1ms/step - loss: 12.6109 - val_loss: 13.2136\n",
      "Saving model: 2\n",
      "Increasing lr: 3\n",
      "Train on 9946 samples, validate on 1016 samples\n",
      "Epoch 1/1\n",
      "9946/9946 [==============================] - 55s 6ms/step - loss: 12.6367 - val_loss: 13.2142\n",
      "Decreasing lr: 3\n",
      "Train on 9946 samples, validate on 1016 samples\n",
      "Epoch 1/10\n",
      "9946/9946 [==============================] - 55s 6ms/step - loss: 12.6188 - val_loss: 13.3075\n",
      "Epoch 2/10\n",
      "9946/9946 [==============================] - 14s 1ms/step - loss: 12.6341 - val_loss: 13.1635\n",
      "Epoch 3/10\n",
      "9946/9946 [==============================] - 14s 1ms/step - loss: 12.6080 - val_loss: 13.3842\n",
      "Epoch 4/10\n",
      "9946/9946 [==============================] - 14s 1ms/step - loss: 12.5957 - val_loss: 13.6498\n",
      "Epoch 5/10\n",
      "9946/9946 [==============================] - 14s 1ms/step - loss: 12.5904 - val_loss: 13.7067\n",
      "Epoch 6/10\n",
      "9946/9946 [==============================] - 14s 1ms/step - loss: 12.5727 - val_loss: 13.2546\n",
      "Epoch 7/10\n",
      "9946/9946 [==============================] - 14s 1ms/step - loss: 12.5668 - val_loss: 13.5647\n",
      "Epoch 8/10\n",
      "9946/9946 [==============================] - 14s 1ms/step - loss: 12.5522 - val_loss: 13.4745\n",
      "Epoch 9/10\n",
      "9946/9946 [==============================] - 14s 1ms/step - loss: 12.5358 - val_loss: 13.7647\n",
      "Epoch 10/10\n",
      "9946/9946 [==============================] - 14s 1ms/step - loss: 12.5133 - val_loss: 13.6475\n",
      "Saving model: 3\n",
      "Increasing lr: 4\n",
      "Train on 9946 samples, validate on 1016 samples\n",
      "Epoch 1/1\n",
      "9946/9946 [==============================] - 56s 6ms/step - loss: 12.5365 - val_loss: 14.0573\n",
      "Decreasing lr: 4\n",
      "Train on 9946 samples, validate on 1016 samples\n",
      "Epoch 1/10\n",
      "9946/9946 [==============================] - 56s 6ms/step - loss: 12.5003 - val_loss: 13.5719\n",
      "Epoch 2/10\n",
      "9946/9946 [==============================] - 14s 1ms/step - loss: 12.5380 - val_loss: 13.3143\n",
      "Epoch 3/10\n",
      "9946/9946 [==============================] - 14s 1ms/step - loss: 12.4866 - val_loss: 13.2840\n",
      "Epoch 4/10\n",
      "9946/9946 [==============================] - 14s 1ms/step - loss: 12.4199 - val_loss: 13.0592\n",
      "Epoch 5/10\n",
      "9946/9946 [==============================] - 14s 1ms/step - loss: 12.4356 - val_loss: 13.3951\n",
      "Epoch 6/10\n",
      "9946/9946 [==============================] - 14s 1ms/step - loss: 12.4733 - val_loss: 13.3121\n",
      "Epoch 7/10\n",
      "9946/9946 [==============================] - 14s 1ms/step - loss: 12.4673 - val_loss: 13.5148\n",
      "Epoch 8/10\n",
      "9946/9946 [==============================] - 14s 1ms/step - loss: 12.4273 - val_loss: 13.3769\n",
      "Epoch 9/10\n",
      "3840/9946 [==========>...................] - ETA: 8s - loss: 12.3878"
     ]
    }
   ],
   "source": [
    "lr_0 = 1e-4\n",
    "ep_0 = 1\n",
    "lr_1 = 1e-4\n",
    "ep_1 = 10\n",
    "for i in range(5):\n",
    "\n",
    "    print(\"Increasing lr:\", i)\n",
    "    autoencoder.compile(optimizer=optimizers.Adam(lr=lr_0), loss='mae')\n",
    "    autoencoder.fit(trainX_n, np.expand_dims(trainY_n, axis=2), \n",
    "                    validation_data=(valX_n, np.expand_dims(valY_n, axis=2)), batch_size=64, epochs=ep_0, verbose=1)\n",
    "\n",
    "    print(\"Decreasing lr:\", i)\n",
    "    autoencoder.compile(optimizer=optimizers.Adam(lr=lr_1), loss='mae')\n",
    "    autoencoder.fit(trainX_n, np.expand_dims(trainY_n, axis=2), \n",
    "                    validation_data=(valX_n, np.expand_dims(valY_n, axis=2)), batch_size=64, epochs=ep_1, verbose=1)\n",
    "\n",
    "\n",
    "    print(\"Saving model:\", i)\n",
    "    autoencoder.save_weights(\"ae_\" + str(i) + \".h5\")\n",
    "    with open(\"ae_\" + str(i) + \".json\", 'w') as f:\n",
    "        f.write(autoencoder.to_json())"
   ]
  },
  {
   "cell_type": "code",
   "execution_count": 428,
   "metadata": {},
   "outputs": [
    {
     "name": "stdout",
     "output_type": "stream",
     "text": [
      "Load model: 0\n",
      "Load model: 1\n",
      "Load model: 2\n",
      "Load model: 3\n",
      "Load model: 4\n"
     ]
    }
   ],
   "source": [
    "autoencoders = []\n",
    "for i in range(5):\n",
    "    \n",
    "    print(\"Load model:\", i)\n",
    "    json_file = open(\"ae_\" + str(i) + \".json\", 'r')\n",
    "    loaded_model_json = json_file.read()\n",
    "    json_file.close()\n",
    "\n",
    "    model = model_from_json(loaded_model_json)\n",
    "    model.load_weights(\"ae_\" + str(i) + \".h5\")\n",
    "    autoencoders.append(model)"
   ]
  },
  {
   "cell_type": "code",
   "execution_count": 429,
   "metadata": {},
   "outputs": [
    {
     "name": "stdout",
     "output_type": "stream",
     "text": [
      "Predictions: 0\n",
      "Predictions: 1\n",
      "Predictions: 2\n",
      "Predictions: 3\n",
      "Predictions: 4\n"
     ]
    }
   ],
   "source": [
    "preds = []\n",
    "for i in range(5):\n",
    "    print(\"Predictions:\", i)\n",
    "    preds.append(autoencoders[i].predict(testX_n))    "
   ]
  },
  {
   "cell_type": "code",
   "execution_count": 431,
   "metadata": {},
   "outputs": [
    {
     "name": "stdout",
     "output_type": "stream",
     "text": [
      "(1016, 250, 1)\n"
     ]
    }
   ],
   "source": [
    "y_pred = np.mean(preds, axis=0)\n",
    "print(y_pred.shape)"
   ]
  },
  {
   "cell_type": "code",
   "execution_count": 416,
   "metadata": {},
   "outputs": [],
   "source": [
    "#Evaluation\n",
    "y_pred = autoencoder.predict(testX_n)"
   ]
  },
  {
   "cell_type": "code",
   "execution_count": 432,
   "metadata": {},
   "outputs": [
    {
     "name": "stdout",
     "output_type": "stream",
     "text": [
      "(1016, 250) (1016, 250)\n",
      "Test error analysis:\n",
      "Explained variance score: 0.5658126161228445\n",
      "MAE error: 12.085817535452051\n",
      "MSE error: 273.37060301869656\n",
      "R2 score: 0.5651282451910701\n"
     ]
    }
   ],
   "source": [
    "y_pred = y_pred.reshape(-1,250)\n",
    "print(y_pred.shape, testY_n.shape)\n",
    "print(\"Test error analysis:\")\n",
    "print(\"Explained variance score:\", explained_variance_score(testY_n, y_pred))\n",
    "print(\"MAE error:\", mean_absolute_error(testY_n, y_pred))\n",
    "print(\"MSE error:\", mean_squared_error(testY_n, y_pred))\n",
    "print(\"R2 score:\", r2_score(testY_n, y_pred))"
   ]
  },
  {
   "cell_type": "code",
   "execution_count": 437,
   "metadata": {},
   "outputs": [
    {
     "name": "stdout",
     "output_type": "stream",
     "text": [
      "(1, 250, 2)\n"
     ]
    },
    {
     "data": {
      "image/png": "[encoded data removed]",
      "text/plain": [
       "<Figure size 864x648 with 3 Axes>"
      ]
     },
     "metadata": {},
     "output_type": "display_data"
    }
   ],
   "source": [
    "#Example\n",
    "ix=10\n",
    "print(np.expand_dims(testX_n[ix,:], axis=0).shape)\n",
    "\n",
    "plt.figure(figsize=(12,9))\n",
    "ax = plt.subplot(3,1,1)\n",
    "ax.plot(testX_0_n[ix,:].reshape(1,-1).T, c=\"g\", label=\"PPG\")\n",
    "ax.legend()\n",
    "\n",
    "ax = plt.subplot(3,1,2)\n",
    "ax.plot(testX_1_n[ix,:].reshape(1,-1).T, c=\"g\", label=\"ECG\")\n",
    "plt.legend()\n",
    "\n",
    "preds = []\n",
    "for i in range(5):\n",
    "    preds.append(autoencoders[i].predict(testX_n[ix].reshape(1,250,2)))\n",
    "\n",
    "pred = np.mean(preds, axis=0)\n",
    "print(pred.shape)\n",
    "\n",
    "#Predicted vs real\n",
    "ax = plt.subplot(3,1,3)\n",
    "ax.plot(pred.reshape(250,1), label=\"pred_ART\")\n",
    "ax.plot(testY_n[ix,:].reshape(1,-1).T, c=\"g\", label=\"real_ART\")\n",
    "ax.legend()\n",
    "plt.show()"
   ]
  },
  {
   "cell_type": "code",
   "execution_count": null,
   "metadata": {
    "collapsed": true
   },
   "outputs": [],
   "source": []
  }
 ],
 "metadata": {
  "kernelspec": {
   "display_name": "Python 3",
   "language": "python",
   "name": "python3"
  },
  "language_info": {
   "codemirror_mode": {
    "name": "ipython",
    "version": 3
   },
   "file_extension": ".py",
   "mimetype": "text/x-python",
   "name": "python",
   "nbconvert_exporter": "python",
   "pygments_lexer": "ipython3",
   "version": "3.6.5"
  }
 },
 "nbformat": 4,
 "nbformat_minor": 2
}
