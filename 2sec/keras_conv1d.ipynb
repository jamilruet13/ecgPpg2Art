{
 "cells": [
  {
   "cell_type": "code",
   "execution_count": 1,
   "metadata": {
    "collapsed": true
   },
   "outputs": [],
   "source": [
    "reset -sf"
   ]
  },
  {
   "cell_type": "code",
   "execution_count": 2,
   "metadata": {},
   "outputs": [
    {
     "name": "stderr",
     "output_type": "stream",
     "text": [
      "/home/administrador/anaconda3/lib/python3.6/importlib/_bootstrap.py:219: RuntimeWarning: numpy.dtype size changed, may indicate binary incompatibility. Expected 96, got 88\n",
      "  return f(*args, **kwds)\n",
      "/home/administrador/anaconda3/lib/python3.6/site-packages/h5py/__init__.py:36: FutureWarning: Conversion of the second argument of issubdtype from `float` to `np.floating` is deprecated. In future, it will be treated as `np.float64 == np.dtype(float).type`.\n",
      "  from ._conv import register_converters as _register_converters\n",
      "Using TensorFlow backend.\n",
      "/home/administrador/anaconda3/lib/python3.6/importlib/_bootstrap.py:219: RuntimeWarning: numpy.dtype size changed, may indicate binary incompatibility. Expected 96, got 88\n",
      "  return f(*args, **kwds)\n",
      "/home/administrador/anaconda3/lib/python3.6/importlib/_bootstrap.py:219: RuntimeWarning: numpy.dtype size changed, may indicate binary incompatibility. Expected 96, got 88\n",
      "  return f(*args, **kwds)\n",
      "/home/administrador/anaconda3/lib/python3.6/importlib/_bootstrap.py:219: RuntimeWarning: numpy.dtype size changed, may indicate binary incompatibility. Expected 96, got 88\n",
      "  return f(*args, **kwds)\n",
      "/home/administrador/anaconda3/lib/python3.6/importlib/_bootstrap.py:219: RuntimeWarning: numpy.dtype size changed, may indicate binary incompatibility. Expected 96, got 88\n",
      "  return f(*args, **kwds)\n"
     ]
    }
   ],
   "source": [
    "import sys\n",
    "import os\n",
    "import numpy as np \n",
    "import pandas as pd\n",
    "from pathlib import Path\n",
    "\n",
    "# univariate mlp example\n",
    "from numpy import array\n",
    "\n",
    "from keras import optimizers\n",
    "from keras import regularizers\n",
    "from keras.models import Sequential\n",
    "from keras.layers import Dense, BatchNormalization, Conv1D, MaxPooling1D, Flatten, Dropout, GlobalMaxPooling1D, Input, add\n",
    "from keras import layers\n",
    "from keras.models import Model\n",
    "\n",
    "from sklearn.preprocessing import StandardScaler,MinMaxScaler\n",
    "from sklearn.externals import joblib \n",
    "import matplotlib.pyplot as plt"
   ]
  },
  {
   "cell_type": "code",
   "execution_count": 3,
   "metadata": {
    "collapsed": true
   },
   "outputs": [],
   "source": [
    "PATH = Path(\"../../data/\")"
   ]
  },
  {
   "cell_type": "code",
   "execution_count": 4,
   "metadata": {},
   "outputs": [
    {
     "name": "stdout",
     "output_type": "stream",
     "text": [
      "(8126, 2500) (8126, 1250)\n",
      "(1016, 2500) (1016, 1250)\n",
      "(1016, 2500) (1016, 1250)\n",
      "[1.0743 1.0802 1.1212 1.2092 1.35   1.5396 1.7664 2.0088 2.2473 2.4399]\n"
     ]
    }
   ],
   "source": [
    "dfX_Train = np.load(PATH/'train_x.npy')\n",
    "dfX_Val = np.load(PATH/'val_x.npy') \n",
    "dfX_Test = np.load(PATH/'test_x.npy')\n",
    "dfY_Train = np.load(PATH/'train_y.npy')\n",
    "dfY_Val = np.load(PATH/'val_y.npy')\n",
    "dfY_Test = np.load(PATH/'test_y.npy')\n",
    "print(dfX_Train.shape, dfY_Train.shape)\n",
    "print(dfX_Val.shape, dfY_Val.shape)\n",
    "print(dfX_Test.shape, dfY_Test.shape)\n",
    "print(dfX_Train[0,:10])"
   ]
  },
  {
   "cell_type": "code",
   "execution_count": 5,
   "metadata": {
    "collapsed": true
   },
   "outputs": [],
   "source": [
    "history=None\n",
    "freq = 125\n",
    "ini = 0 #freq\n",
    "dim = freq * 2\n",
    "ecg = 1250"
   ]
  },
  {
   "cell_type": "code",
   "execution_count": 6,
   "metadata": {
    "collapsed": true
   },
   "outputs": [],
   "source": [
    "trainY_n = dfY_Train[:,ini:ini+dim]\n",
    "valY_n = dfY_Val[:,ini:ini+dim]\n",
    "testY_n = dfY_Test[:,ini:ini+dim]"
   ]
  },
  {
   "cell_type": "code",
   "execution_count": 7,
   "metadata": {},
   "outputs": [
    {
     "name": "stdout",
     "output_type": "stream",
     "text": [
      "4.5 -3.498 0.8156937694160916\n",
      "(8126, 250, 2) (1016, 250, 2) (1016, 250, 2) (8126, 250) (1016, 250) (1016, 250)\n"
     ]
    }
   ],
   "source": [
    "trainX_0_n = dfX_Train [:,ini:ini+dim]\n",
    "trainX_1_n = dfX_Train [:,ini+ecg:ini+ecg+dim]\n",
    "\n",
    "valX_0_n =dfX_Val [:,ini:ini+dim]\n",
    "valX_1_n = dfX_Val[:,ecg+ini:ini+ecg+dim]\n",
    "\n",
    "testX_0_n = dfX_Test[:,ini:ini+dim]\n",
    "testX_1_n = dfX_Test[:,ecg+ini:ini+ecg+dim]\n",
    "\n",
    "trainX_n = np.stack((trainX_0_n, trainX_1_n), axis=2)\n",
    "valX_n = np.stack((valX_0_n,valX_1_n), axis=2)\n",
    "testX_n = np.stack((testX_0_n, testX_1_n), axis=2)\n",
    "\n",
    "print(trainX_n.max(), trainX_n.min(), trainX_n.std())\n",
    "print(trainX_n.shape, valX_n.shape, testX_n.shape, trainY_n.shape, valY_n.shape, testY_n.shape)"
   ]
  },
  {
   "cell_type": "code",
   "execution_count": 9,
   "metadata": {},
   "outputs": [
    {
     "name": "stdout",
     "output_type": "stream",
     "text": [
      "(8126, 250, 2) (1016, 250, 2) (1016, 250, 2) (8126, 250) (1016, 250) (1016, 250)\n"
     ]
    }
   ],
   "source": [
    "# Standardize"
   ]
  },
  {
   "cell_type": "code",
   "execution_count": 8,
   "metadata": {},
   "outputs": [
    {
     "name": "stdout",
     "output_type": "stream",
     "text": [
      "(250,)\n",
      "(250,)\n"
     ]
    }
   ],
   "source": [
    "scaler_ppg = StandardScaler().fit(trainX_n[:,:,0])\n",
    "scaler_ecg = StandardScaler().fit(trainX_n[:,:,1])\n",
    "print(scaler_ppg.mean_.shape)\n",
    "print(scaler_ecg.mean_.shape)"
   ]
  },
  {
   "cell_type": "code",
   "execution_count": 9,
   "metadata": {},
   "outputs": [
    {
     "name": "stdout",
     "output_type": "stream",
     "text": [
      "12.232114683629453 -11.461019164899536 1.0000000000000004\n",
      "(8126, 250, 2) (1016, 250, 2) (1016, 250, 2) (8126, 250) (1016, 250) (1016, 250)\n"
     ]
    }
   ],
   "source": [
    "trainX_n = np.stack((scaler_ppg.transform(trainX_n[:,:,0]).reshape(-1,dim), scaler_ecg.transform(trainX_n[:,:,1]).reshape(-1,dim)), axis=2)\n",
    "valX_n = np.stack((scaler_ppg.transform(valX_n[:,:,0]).reshape(-1,dim), scaler_ecg.transform(valX_n[:,:,1]).reshape(-1,dim)), axis=2)\n",
    "testX_n = np.stack((scaler_ppg.transform(testX_n[:,:,0]).reshape(-1,dim), scaler_ecg.transform(testX_n[:,:,1]).reshape(-1,dim)), axis=2)\n",
    "\n",
    "print(trainX_n.max(), trainX_n.min(), trainX_n.std())\n",
    "print(trainX_n.shape, valX_n.shape, testX_n.shape, trainY_n.shape, valY_n.shape, testY_n.shape)"
   ]
  },
  {
   "cell_type": "code",
   "execution_count": 10,
   "metadata": {
    "collapsed": true
   },
   "outputs": [],
   "source": [
    "#Definition of the model"
   ]
  },
  {
   "cell_type": "code",
   "execution_count": 80,
   "metadata": {},
   "outputs": [
    {
     "name": "stdout",
     "output_type": "stream",
     "text": [
      "_________________________________________________________________\n",
      "Layer (type)                 Output Shape              Param #   \n",
      "=================================================================\n",
      "input_33 (InputLayer)        (None, 250, 2)            0         \n",
      "_________________________________________________________________\n",
      "conv1d_76 (Conv1D)           (None, 244, 64)           960       \n",
      "_________________________________________________________________\n",
      "batch_normalization_101 (Bat (None, 244, 64)           256       \n",
      "_________________________________________________________________\n",
      "max_pooling1d_75 (MaxPooling (None, 122, 64)           0         \n",
      "_________________________________________________________________\n",
      "dropout_93 (Dropout)         (None, 122, 64)           0         \n",
      "_________________________________________________________________\n",
      "conv1d_77 (Conv1D)           (None, 116, 128)          57472     \n",
      "_________________________________________________________________\n",
      "batch_normalization_102 (Bat (None, 116, 128)          512       \n",
      "_________________________________________________________________\n",
      "max_pooling1d_76 (MaxPooling (None, 58, 128)           0         \n",
      "_________________________________________________________________\n",
      "dropout_94 (Dropout)         (None, 58, 128)           0         \n",
      "_________________________________________________________________\n",
      "conv1d_78 (Conv1D)           (None, 52, 256)           229632    \n",
      "_________________________________________________________________\n",
      "batch_normalization_103 (Bat (None, 52, 256)           1024      \n",
      "_________________________________________________________________\n",
      "max_pooling1d_77 (MaxPooling (None, 26, 256)           0         \n",
      "_________________________________________________________________\n",
      "dropout_95 (Dropout)         (None, 26, 256)           0         \n",
      "_________________________________________________________________\n",
      "conv1d_79 (Conv1D)           (None, 20, 512)           918016    \n",
      "_________________________________________________________________\n",
      "batch_normalization_104 (Bat (None, 20, 512)           2048      \n",
      "_________________________________________________________________\n",
      "max_pooling1d_78 (MaxPooling (None, 10, 512)           0         \n",
      "_________________________________________________________________\n",
      "dropout_96 (Dropout)         (None, 10, 512)           0         \n",
      "_________________________________________________________________\n",
      "flatten_16 (Flatten)         (None, 5120)              0         \n",
      "_________________________________________________________________\n",
      "dense_41 (Dense)             (None, 5120)              26219520  \n",
      "_________________________________________________________________\n",
      "batch_normalization_105 (Bat (None, 5120)              20480     \n",
      "_________________________________________________________________\n",
      "dropout_97 (Dropout)         (None, 5120)              0         \n",
      "_________________________________________________________________\n",
      "dense_42 (Dense)             (None, 2560)              13109760  \n",
      "_________________________________________________________________\n",
      "dropout_98 (Dropout)         (None, 2560)              0         \n",
      "_________________________________________________________________\n",
      "batch_normalization_106 (Bat (None, 2560)              10240     \n",
      "_________________________________________________________________\n",
      "dense_43 (Dense)             (None, 250)               640250    \n",
      "=================================================================\n",
      "Total params: 41,210,170\n",
      "Trainable params: 41,192,890\n",
      "Non-trainable params: 17,280\n",
      "_________________________________________________________________\n"
     ]
    }
   ],
   "source": [
    "input_tensor = Input(shape=(dim, 2))\n",
    "\n",
    "x = Conv1D(filters=64, kernel_size=7, activation='relu')(input_tensor)\n",
    "x = BatchNormalization()(x)\n",
    "x = MaxPooling1D(pool_size=2)(x)\n",
    "x = Dropout(0.3)(x)\n",
    "\n",
    "x = Conv1D(filters=128, kernel_size=7, activation='relu')(x)\n",
    "x = BatchNormalization()(x)\n",
    "x = MaxPooling1D(pool_size=2)(x)\n",
    "x = Dropout(0.3)(x)\n",
    "\n",
    "x = Conv1D(filters=256, kernel_size=7, activation='relu')(x)\n",
    "x = BatchNormalization()(x)\n",
    "x = MaxPooling1D(pool_size=2)(x)\n",
    "x = Dropout(0.3)(x)\n",
    "\n",
    "x = Conv1D(filters=512, kernel_size=7, activation='relu')(x)\n",
    "x = BatchNormalization()(x)\n",
    "x = MaxPooling1D(pool_size=2)(x)\n",
    "x = Dropout(0.3)(x)\n",
    "\n",
    "#x = GlobalMaxPooling1D()(x)\n",
    "\n",
    "x = Flatten()(x)\n",
    "x = Dense(5120, activation='relu')(x) #5120\n",
    "x = BatchNormalization()(x)\n",
    "x = Dropout(0.5)(x)\n",
    "\n",
    "x = Dense(5120//2, activation='relu')(x) #5120\n",
    "x = Dropout(0.5)(x)\n",
    "\n",
    "#Very important!!!\n",
    "x = BatchNormalization()(x)\n",
    "x = Dense(dim)(x)\n",
    "\n",
    "model = Model(input_tensor,x)\n",
    "model.summary()"
   ]
  },
  {
   "cell_type": "code",
   "execution_count": 70,
   "metadata": {
    "scrolled": true
   },
   "outputs": [
    {
     "name": "stdout",
     "output_type": "stream",
     "text": [
      "Train on 8126 samples, validate on 1016 samples\n",
      "Epoch 1/20\n",
      "8126/8126 [==============================] - 16s 2ms/step - loss: 65.2080 - val_loss: 237.6558\n",
      "Epoch 2/20\n",
      "8126/8126 [==============================] - 10s 1ms/step - loss: 18.9557 - val_loss: 20.0640\n",
      "Epoch 3/20\n",
      "8126/8126 [==============================] - 10s 1ms/step - loss: 18.0397 - val_loss: 19.7156\n",
      "Epoch 4/20\n",
      "8126/8126 [==============================] - 10s 1ms/step - loss: 17.4503 - val_loss: 18.4147\n",
      "Epoch 5/20\n",
      "8126/8126 [==============================] - 10s 1ms/step - loss: 16.7386 - val_loss: 17.6634\n",
      "Epoch 6/20\n",
      "8126/8126 [==============================] - 10s 1ms/step - loss: 16.2372 - val_loss: 17.8731\n",
      "Epoch 7/20\n",
      "8126/8126 [==============================] - 10s 1ms/step - loss: 15.8278 - val_loss: 17.0498\n",
      "Epoch 8/20\n",
      "8126/8126 [==============================] - 10s 1ms/step - loss: 15.2086 - val_loss: 16.5463\n",
      "Epoch 9/20\n",
      "8126/8126 [==============================] - 10s 1ms/step - loss: 14.8500 - val_loss: 16.4970\n",
      "Epoch 10/20\n",
      "8126/8126 [==============================] - 10s 1ms/step - loss: 14.4756 - val_loss: 16.3792\n",
      "Epoch 11/20\n",
      "8126/8126 [==============================] - 10s 1ms/step - loss: 14.2202 - val_loss: 15.2359\n",
      "Epoch 12/20\n",
      "8126/8126 [==============================] - 10s 1ms/step - loss: 13.8757 - val_loss: 15.2290\n",
      "Epoch 13/20\n",
      "8126/8126 [==============================] - 10s 1ms/step - loss: 13.6085 - val_loss: 15.5649\n",
      "Epoch 14/20\n",
      "8126/8126 [==============================] - 10s 1ms/step - loss: 13.2780 - val_loss: 14.8628\n",
      "Epoch 15/20\n",
      "8126/8126 [==============================] - 10s 1ms/step - loss: 13.0419 - val_loss: 15.1082\n",
      "Epoch 16/20\n",
      "8126/8126 [==============================] - 10s 1ms/step - loss: 12.8357 - val_loss: 15.2418\n",
      "Epoch 17/20\n",
      "8126/8126 [==============================] - 10s 1ms/step - loss: 12.6428 - val_loss: 15.7401\n",
      "Epoch 18/20\n",
      "8126/8126 [==============================] - 10s 1ms/step - loss: 12.4349 - val_loss: 14.8617\n",
      "Epoch 19/20\n",
      "8126/8126 [==============================] - 10s 1ms/step - loss: 12.1154 - val_loss: 14.8402\n",
      "Epoch 20/20\n",
      "8126/8126 [==============================] - 10s 1ms/step - loss: 11.9279 - val_loss: 14.6875\n"
     ]
    }
   ],
   "source": [
    "# fit model\n",
    "model.compile(optimizer=optimizers.Adam(lr=1e-3), loss='mae')\n",
    "history_prev = history\n",
    "history = model.fit(trainX_n, trainY_n, validation_data=(valX_n, valY_n), batch_size=64, epochs=20, verbose=1)"
   ]
  },
  {
   "cell_type": "code",
   "execution_count": 14,
   "metadata": {},
   "outputs": [
    {
     "data": {
      "image/png": "[encoded data removed]",
      "text/plain": [
       "<Figure size 864x360 with 2 Axes>"
      ]
     },
     "metadata": {},
     "output_type": "display_data"
    }
   ],
   "source": [
    "plt.figure(figsize=(12,5))\n",
    "for i in range(2):\n",
    "    if i == 0:\n",
    "        if history_prev is None:\n",
    "            continue\n",
    "        else:\n",
    "            hist = history_prev\n",
    "    else:\n",
    "        hist = history\n",
    "        \n",
    "    loss = hist.history[\"loss\"]\n",
    "    val_loss = hist.history[\"val_loss\"]\n",
    "    epochs = range(1, len(loss) +1)\n",
    "    ax = plt.subplot(1,2,1+i)\n",
    "    ax.plot(epochs, loss, label=\"train\")\n",
    "    ax.plot(epochs, val_loss, label=\"validation\")\n",
    "    ax.set_xticks(epochs, epochs)\n",
    "    ax.set_ylim(0.0,1.0)\n",
    "    ax.legend()\n",
    "\n",
    "plt.show()"
   ]
  },
  {
   "cell_type": "code",
   "execution_count": null,
   "metadata": {
    "collapsed": true
   },
   "outputs": [],
   "source": [
    "# Save the weights and architecture"
   ]
  },
  {
   "cell_type": "code",
   "execution_count": 15,
   "metadata": {
    "collapsed": true
   },
   "outputs": [],
   "source": [
    "model.save_weights('conv1d.h5')\n",
    "with open('conv1d.json', 'w') as f:\n",
    "    f.write(model.to_json())"
   ]
  },
  {
   "cell_type": "code",
   "execution_count": 11,
   "metadata": {
    "collapsed": true
   },
   "outputs": [],
   "source": [
    "model.load_weights('conv1d.h5')"
   ]
  },
  {
   "cell_type": "code",
   "execution_count": null,
   "metadata": {
    "collapsed": true
   },
   "outputs": [],
   "source": [
    "#Evaluation"
   ]
  },
  {
   "cell_type": "code",
   "execution_count": 20,
   "metadata": {
    "collapsed": true
   },
   "outputs": [],
   "source": [
    "y_pred = []\n",
    "for ix in range(testX_n.shape[0]):\n",
    "    y_pred.append(model.predict([np.expand_dims(testX_n[ix,:].reshape(250,2),0)]))"
   ]
  },
  {
   "cell_type": "code",
   "execution_count": 21,
   "metadata": {},
   "outputs": [
    {
     "name": "stdout",
     "output_type": "stream",
     "text": [
      "(1016, 250) (1016, 250)\n",
      "Test error analysis:\n",
      "Explained variance score: 0.4279777677055694\n",
      "MAE error: 14.160771845684142\n",
      "MSE error: 371.1440771845821\n",
      "R2 score: 0.4099544487852887\n"
     ]
    }
   ],
   "source": [
    "from sklearn.metrics import explained_variance_score, mean_absolute_error, mean_squared_error, r2_score\n",
    "\n",
    "y_pred = np.array(y_pred).reshape(-1,250)\n",
    "print(y_pred.shape, testY_n.shape)\n",
    "print(\"Test error analysis:\")\n",
    "print(\"Explained variance score:\", explained_variance_score(testY_n, y_pred))\n",
    "print(\"MAE error:\", mean_absolute_error(testY_n, y_pred))\n",
    "print(\"MSE error:\", mean_squared_error(testY_n, y_pred))\n",
    "print(\"R2 score:\", r2_score(testY_n, y_pred))"
   ]
  },
  {
   "cell_type": "code",
   "execution_count": 54,
   "metadata": {
    "collapsed": true
   },
   "outputs": [],
   "source": [
    "# Visualize"
   ]
  },
  {
   "cell_type": "code",
   "execution_count": 23,
   "metadata": {},
   "outputs": [
    {
     "name": "stdout",
     "output_type": "stream",
     "text": [
      "(1, 250, 2)\n"
     ]
    },
    {
     "data": {
      "image/png": "[encoded data removed]",
      "text/plain": [
       "<Figure size 864x648 with 3 Axes>"
      ]
     },
     "metadata": {},
     "output_type": "display_data"
    }
   ],
   "source": [
    "ix=12\n",
    "\n",
    "print(np.expand_dims(testX_n[ix,:], axis=0).shape)\n",
    "\n",
    "plt.figure(figsize=(12,9))\n",
    "ax = plt.subplot(3,1,1)\n",
    "ax.plot(testX_0_n[ix,:].reshape(1,-1).T, c=\"g\", label=\"PPG\")\n",
    "ax.legend()\n",
    "\n",
    "ax = plt.subplot(3,1,2)\n",
    "ax.plot(testX_1_n[ix,:].reshape(1,-1).T, c=\"g\", label=\"ECG\")\n",
    "plt.legend()\n",
    "\n",
    "\n",
    "ax = plt.subplot(3,1,3)\n",
    "ax.plot(model.predict(np.expand_dims(testX_n[ix,:], axis=0)).T, label=\"pred_ART\")\n",
    "ax.plot(testY_n[ix,:].reshape(1,-1).T, c=\"g\", label=\"real_ART\")\n",
    "ax.legend()\n",
    "\n",
    "plt.show()"
   ]
  },
  {
   "cell_type": "code",
   "execution_count": null,
   "metadata": {
    "collapsed": true
   },
   "outputs": [],
   "source": []
  }
 ],
 "metadata": {
  "kernelspec": {
   "display_name": "Python 3",
   "language": "python",
   "name": "python3"
  },
  "language_info": {
   "codemirror_mode": {
    "name": "ipython",
    "version": 3
   },
   "file_extension": ".py",
   "mimetype": "text/x-python",
   "name": "python",
   "nbconvert_exporter": "python",
   "pygments_lexer": "ipython3",
   "version": "3.6.5"
  }
 },
 "nbformat": 4,
 "nbformat_minor": 2
}
