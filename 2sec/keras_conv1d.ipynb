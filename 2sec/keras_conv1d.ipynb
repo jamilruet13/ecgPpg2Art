{
 "cells": [
  {
   "cell_type": "code",
   "execution_count": 1,
   "metadata": {},
   "outputs": [],
   "source": [
    "reset -sf"
   ]
  },
  {
   "cell_type": "code",
   "execution_count": 2,
   "metadata": {},
   "outputs": [
    {
     "name": "stderr",
     "output_type": "stream",
     "text": [
      "/home/administrador/anaconda3/envs/deeplung/lib/python3.6/site-packages/h5py/__init__.py:36: FutureWarning: Conversion of the second argument of issubdtype from `float` to `np.floating` is deprecated. In future, it will be treated as `np.float64 == np.dtype(float).type`.\n",
      "  from ._conv import register_converters as _register_converters\n",
      "Using TensorFlow backend.\n"
     ]
    }
   ],
   "source": [
    "import sys\n",
    "import os\n",
    "import numpy as np \n",
    "import pandas as pd\n",
    "from pathlib import Path\n",
    "\n",
    "# univariate mlp example\n",
    "from numpy import array\n",
    "\n",
    "from keras import optimizers\n",
    "from keras import regularizers\n",
    "from keras.models import Sequential\n",
    "from keras.layers import Dense, BatchNormalization, Conv1D, MaxPooling1D, Flatten, Dropout, GlobalMaxPooling1D, Input, add\n",
    "from keras import layers\n",
    "from keras.models import Model\n",
    "\n",
    "from sklearn.preprocessing import StandardScaler,MinMaxScaler\n",
    "from sklearn.externals import joblib \n",
    "import matplotlib.pyplot as plt"
   ]
  },
  {
   "cell_type": "code",
   "execution_count": 3,
   "metadata": {},
   "outputs": [],
   "source": [
    "PATH = Path(\"../../data/\")"
   ]
  },
  {
   "cell_type": "code",
   "execution_count": 4,
   "metadata": {},
   "outputs": [
    {
     "name": "stderr",
     "output_type": "stream",
     "text": [
      "/home/administrador/anaconda3/envs/deeplung/lib/python3.6/site-packages/sklearn/base.py:311: UserWarning: Trying to unpickle estimator StandardScaler from version 0.20.1 when using version 0.19.1. This might lead to breaking code or invalid results. Use at your own risk.\n",
      "  UserWarning)\n"
     ]
    }
   ],
   "source": [
    "scaler = joblib.load(PATH/'train_scaler_x.pkl')"
   ]
  },
  {
   "cell_type": "code",
   "execution_count": 5,
   "metadata": {},
   "outputs": [
    {
     "name": "stdout",
     "output_type": "stream",
     "text": [
      "(8126, 2500) (8126, 1250)\n",
      "(1016, 2500) (1016, 1250)\n",
      "(1016, 2500) (1016, 1250)\n",
      "[1.0743 1.0802 1.1212 1.2092 1.35   1.5396 1.7664 2.0088 2.2473 2.4399]\n"
     ]
    }
   ],
   "source": [
    "dfX_Train = np.load(PATH/'train_x.npy')\n",
    "dfX_Val = np.load(PATH/'val_x.npy') \n",
    "dfX_Test = np.load(PATH/'test_x.npy')\n",
    "dfY_Train = np.load(PATH/'train_y.npy')\n",
    "dfY_Val = np.load(PATH/'val_y.npy')\n",
    "dfY_Test = np.load(PATH/'test_y.npy')\n",
    "print(dfX_Train.shape, dfY_Train.shape)\n",
    "print(dfX_Val.shape, dfY_Val.shape)\n",
    "print(dfX_Test.shape, dfY_Test.shape)\n",
    "print(dfX_Train[0,:10])"
   ]
  },
  {
   "cell_type": "code",
   "execution_count": 6,
   "metadata": {},
   "outputs": [],
   "source": [
    "history=None\n",
    "freq = 125\n",
    "ini = 0 #freq\n",
    "dim = freq * 2\n",
    "ecg = 1250"
   ]
  },
  {
   "cell_type": "code",
   "execution_count": 7,
   "metadata": {},
   "outputs": [],
   "source": [
    "#Normalize Y\n",
    "rng = (dfY_Train[:,ini:ini+dim].max(axis=1) - dfY_Train[:,ini:ini+dim].min(axis=1))\n",
    "trainY_n = np.array([dfY_Train [:,i] - dfY_Train[:,ini:ini+dim].min(axis=1) \n",
    "                       for i in range(ini,ini+dim)]) / rng\n",
    "\n",
    "rng = (dfY_Val[:,ini:ini+dim].max(axis=1) - dfY_Val[:,ini:ini+dim].min(axis=1))\n",
    "valY_n = np.array([dfY_Val [:,i] - dfY_Val[:,ini:ini+dim].min(axis=1) \n",
    "                       for i in range(ini,ini+dim)]) / rng\n",
    "\n",
    "rng = (dfY_Test[:,ini:ini+dim].max(axis=1) - dfY_Test[:,ini:ini+dim].min(axis=1))\n",
    "testY_n = np.array([dfY_Test [:,i] - dfY_Test[:,ini:ini+dim].min(axis=1) \n",
    "                       for i in range(ini,ini+dim)]) / rng\n",
    "\n",
    "trainY_n = trainY_n.T\n",
    "valY_n = valY_n.T\n",
    "testY_n = testY_n.T "
   ]
  },
  {
   "cell_type": "code",
   "execution_count": 8,
   "metadata": {},
   "outputs": [
    {
     "name": "stdout",
     "output_type": "stream",
     "text": [
      "(8126, 250) (8126, 250)\n",
      "(1016, 250) (1016, 250)\n",
      "(1016, 250) (1016, 250)\n"
     ]
    }
   ],
   "source": [
    "#Normalize X\n",
    "rng = (dfX_Train[:,ini:ini+dim].max(axis=1) - dfX_Train[:,ini:ini+dim].min(axis=1))\n",
    "trainX_0_n = np.array([dfX_Train [:,i] - dfX_Train[:,ini:ini+dim].min(axis=1) \n",
    "                       for i in range(ini,ini+dim)]) / rng\n",
    "\n",
    "rng = (dfX_Train[:,ecg+ini:ini+ecg+dim].max(axis=1) - dfX_Train[:,ecg+ini:ini+ecg+dim].min(axis=1))\n",
    "trainX_1_n = np.array([dfX_Train [:,i] - dfX_Train[:,ini+ecg:ini+ecg+dim].min(axis=1) for i in range(ini+ecg,ini+ecg+dim)]) / rng\n",
    "\n",
    "rng = (dfX_Val[:,ini:ini+dim].max(axis=1) - dfX_Val[:,ini:ini+dim].min(axis=1))\n",
    "valX_0_n = np.array([dfX_Val [:,i] - dfX_Val[:,ini:ini+dim].min(axis=1) \n",
    "                       for i in range(ini,ini+dim)]) / rng\n",
    "\n",
    "rng = (dfX_Val[:,ecg+ini:ini+ecg+dim].max(axis=1) - dfX_Val[:,ecg+ini:ini+ecg+dim].min(axis=1))\n",
    "valX_1_n = np.array([dfX_Val [:,i] - dfX_Val[:,ini+ecg:ini+ecg+dim].min(axis=1) for i in range(ini+ecg,ini+ecg+dim)]) / rng\n",
    "\n",
    "rng = (dfX_Test[:,ini:ini+dim].max(axis=1) - dfX_Test[:,ini:ini+dim].min(axis=1))\n",
    "testX_0_n = np.array([dfX_Test [:,i] - dfX_Test[:,ini:ini+dim].min(axis=1) \n",
    "                       for i in range(ini,ini+dim)]) / rng\n",
    "\n",
    "rng = (dfX_Test[:,ecg+ini:ini+ecg+dim].max(axis=1) - dfX_Test[:,ecg+ini:ini+ecg+dim].min(axis=1))\n",
    "testX_1_n = np.array([dfX_Test [:,i] - dfX_Test[:,ini+ecg:ini+ecg+dim].min(axis=1) for i in range(ini+ecg,ini+ecg+dim)]) / rng\n",
    "\n",
    "trainX_0_n = trainX_0_n.T\n",
    "trainX_1_n = trainX_1_n.T\n",
    "valX_0_n = valX_0_n.T\n",
    "valX_1_n = valX_1_n.T\n",
    "testX_0_n = testX_0_n.T \n",
    "testX_1_n = testX_1_n.T\n",
    "\n",
    "print(trainX_0_n.shape,trainX_1_n.shape)\n",
    "print(valX_0_n.shape,valX_1_n.shape)\n",
    "print(testX_0_n.shape,testX_1_n.shape)"
   ]
  },
  {
   "cell_type": "code",
   "execution_count": 9,
   "metadata": {},
   "outputs": [
    {
     "name": "stdout",
     "output_type": "stream",
     "text": [
      "(8126, 250, 2) (1016, 250, 2) (1016, 250, 2) (8126, 250) (1016, 250) (1016, 250)\n"
     ]
    }
   ],
   "source": [
    "trainX_n = np.stack((trainX_0_n, trainX_1_n), axis=2)\n",
    "valX_n = np.stack((valX_0_n,valX_1_n), axis=2)\n",
    "testX_n = np.stack((testX_0_n, testX_1_n), axis=2)\n",
    "\n",
    "print(trainX_n.shape, valX_n.shape, testX_n.shape, trainY_n.shape, valY_n.shape, testY_n.shape)"
   ]
  },
  {
   "cell_type": "code",
   "execution_count": 10,
   "metadata": {},
   "outputs": [],
   "source": [
    "#Definition of the model"
   ]
  },
  {
   "cell_type": "code",
   "execution_count": 10,
   "metadata": {},
   "outputs": [
    {
     "name": "stdout",
     "output_type": "stream",
     "text": [
      "_________________________________________________________________\n",
      "Layer (type)                 Output Shape              Param #   \n",
      "=================================================================\n",
      "input_1 (InputLayer)         (None, 250, 2)            0         \n",
      "_________________________________________________________________\n",
      "conv1d_1 (Conv1D)            (None, 219, 512)          33280     \n",
      "_________________________________________________________________\n",
      "batch_normalization_1 (Batch (None, 219, 512)          2048      \n",
      "_________________________________________________________________\n",
      "max_pooling1d_1 (MaxPooling1 (None, 73, 512)           0         \n",
      "_________________________________________________________________\n",
      "dropout_1 (Dropout)          (None, 73, 512)           0         \n",
      "_________________________________________________________________\n",
      "flatten_1 (Flatten)          (None, 37376)             0         \n",
      "_________________________________________________________________\n",
      "dense_1 (Dense)              (None, 250)               9344250   \n",
      "_________________________________________________________________\n",
      "dropout_2 (Dropout)          (None, 250)               0         \n",
      "_________________________________________________________________\n",
      "batch_normalization_2 (Batch (None, 250)               1000      \n",
      "_________________________________________________________________\n",
      "dense_2 (Dense)              (None, 250)               62750     \n",
      "=================================================================\n",
      "Total params: 9,443,328\n",
      "Trainable params: 9,441,804\n",
      "Non-trainable params: 1,524\n",
      "_________________________________________________________________\n"
     ]
    }
   ],
   "source": [
    "input_tensor = Input(shape=(dim, 2))\n",
    "\n",
    "x = Conv1D(filters=512, kernel_size=32, activation='relu')(input_tensor)\n",
    "x = BatchNormalization()(x)\n",
    "x = MaxPooling1D(pool_size=3)(x)\n",
    "x = Dropout(0.7)(x)\n",
    "\n",
    "\"\"\"\n",
    "x = Conv1D(filters=256, kernel_size=9, activation='relu')(input_tensor)\n",
    "x = BatchNormalization()(x)\n",
    "x = MaxPooling1D(pool_size=3)(x)\n",
    "x = Dropout(0.5)(x)\n",
    "\"\"\"\n",
    "\n",
    "x = Flatten()(x)\n",
    "\"\"\"\n",
    "#Residual\n",
    "y = Conv1D(filters=128, kernel_size=3, activation='relu', padding=\"same\")(x)\n",
    "y = BatchNormalization()(y)\n",
    "y = Dropout(0.5)(y)\n",
    "residual = Conv1D(filters=128, kernel_size=1, activation='relu')(x)\n",
    "x = add([y,residual])\n",
    "\"\"\"\n",
    "\"\"\"\n",
    "#GlobalMax\n",
    "#x = GlobalMaxPooling1D()(x)\n",
    "#x = BatchNormalization()(x)\n",
    "\"\"\"\n",
    "\"\"\"\n",
    "x = Dense(dim*2, activation='relu', input_dim=dim*2)(x)\n",
    "x = Dropout(0.7)(x)\n",
    "x = BatchNormalization()(x)\n",
    "x = Dense(dim*2, activation='relu', input_dim=dim*2)(x)\n",
    "x = Dropout(0.5)(x)\n",
    "x = BatchNormalization()(x)\n",
    "x = Dense(dim, activation='relu', input_dim=dim*2)(x)\n",
    "x = Dropout(0.5)(x)\n",
    "x = BatchNormalization()(x)\n",
    "\"\"\"\n",
    "\"\"\"\n",
    "x = Dense(dim, activation='relu', input_dim=dim*2)(x)\n",
    "x = Dropout(0.5)(x)\n",
    "x = BatchNormalization()(x)\n",
    "\"\"\"\n",
    "\n",
    "x = Dense(dim, activation='relu', input_dim=dim)(x)\n",
    "x = Dropout(0.5)(x)\n",
    "x = BatchNormalization()(x)\n",
    "\n",
    "x = Dense(dim)(x)\n",
    "\n",
    "model = Model(input_tensor,x)\n",
    "model.summary()"
   ]
  },
  {
   "cell_type": "code",
   "execution_count": 13,
   "metadata": {
    "scrolled": true
   },
   "outputs": [
    {
     "name": "stdout",
     "output_type": "stream",
     "text": [
      "Train on 8126 samples, validate on 1016 samples\n",
      "Epoch 1/5\n",
      "8126/8126 [==============================] - 5s 605us/step - loss: 0.0288 - val_loss: 0.0191\n",
      "Epoch 2/5\n",
      "8126/8126 [==============================] - 4s 481us/step - loss: 0.0285 - val_loss: 0.0194\n",
      "Epoch 3/5\n",
      "8126/8126 [==============================] - 4s 481us/step - loss: 0.0281 - val_loss: 0.0192\n",
      "Epoch 4/5\n",
      "8126/8126 [==============================] - 4s 481us/step - loss: 0.0279 - val_loss: 0.0196\n",
      "Epoch 5/5\n",
      "8126/8126 [==============================] - 4s 482us/step - loss: 0.0277 - val_loss: 0.0196\n"
     ]
    }
   ],
   "source": [
    "# fit model\n",
    "model.compile(optimizer=optimizers.Adam(lr=1e-4), loss='mse')\n",
    "history_prev = history\n",
    "history = model.fit(trainX_n, trainY_n, validation_data=(valX_n, valY_n), batch_size=64, epochs=5, verbose=1)"
   ]
  },
  {
   "cell_type": "code",
   "execution_count": 14,
   "metadata": {},
   "outputs": [
    {
     "data": {
      "image/png": "[encoded data removed]",
      "text/plain": [
       "<Figure size 864x360 with 2 Axes>"
      ]
     },
     "metadata": {},
     "output_type": "display_data"
    }
   ],
   "source": [
    "plt.figure(figsize=(12,5))\n",
    "for i in range(2):\n",
    "    if i == 0:\n",
    "        if history_prev is None:\n",
    "            continue\n",
    "        else:\n",
    "            hist = history_prev\n",
    "    else:\n",
    "        hist = history\n",
    "        \n",
    "    loss = hist.history[\"loss\"]\n",
    "    val_loss = hist.history[\"val_loss\"]\n",
    "    epochs = range(1, len(loss) +1)\n",
    "    ax = plt.subplot(1,2,1+i)\n",
    "    ax.plot(epochs, loss, label=\"train\")\n",
    "    ax.plot(epochs, val_loss, label=\"validation\")\n",
    "    ax.set_xticks(epochs, epochs)\n",
    "    ax.set_ylim(0.0,1.0)\n",
    "    ax.legend()\n",
    "\n",
    "plt.show()"
   ]
  },
  {
   "cell_type": "code",
   "execution_count": null,
   "metadata": {},
   "outputs": [],
   "source": [
    "# Save the weights and architecture"
   ]
  },
  {
   "cell_type": "code",
   "execution_count": 15,
   "metadata": {},
   "outputs": [],
   "source": [
    "model.save_weights('conv1d.h5')\n",
    "with open('conv1d.json', 'w') as f:\n",
    "    f.write(model.to_json())"
   ]
  },
  {
   "cell_type": "code",
   "execution_count": 11,
   "metadata": {},
   "outputs": [],
   "source": [
    "model.load_weights('conv1d.h5')"
   ]
  },
  {
   "cell_type": "code",
   "execution_count": null,
   "metadata": {},
   "outputs": [],
   "source": [
    "#Evaluation"
   ]
  },
  {
   "cell_type": "code",
   "execution_count": 12,
   "metadata": {},
   "outputs": [],
   "source": [
    "y_pred = []\n",
    "for ix in range(testX_n.shape[0]):\n",
    "    y_pred.append(model.predict([np.expand_dims(testX_n[ix,:].reshape(250,2),0)]))"
   ]
  },
  {
   "cell_type": "code",
   "execution_count": 13,
   "metadata": {},
   "outputs": [
    {
     "name": "stdout",
     "output_type": "stream",
     "text": [
      "(1016, 250) (1016, 250)\n",
      "Test error analysis:\n",
      "Explained variance score: 0.7369468164276015\n",
      "MAE error: 0.11385018394813488\n",
      "MSE error: 0.02610743472947844\n",
      "R2 score: 0.7339271174636147\n"
     ]
    }
   ],
   "source": [
    "from sklearn.metrics import explained_variance_score, mean_absolute_error, mean_squared_error, r2_score\n",
    "\n",
    "y_pred = np.array(y_pred).reshape(-1,250)\n",
    "print(y_pred.shape, testY_n.shape)\n",
    "print(\"Test error analysis:\")\n",
    "print(\"Explained variance score:\", explained_variance_score(testY_n, y_pred))\n",
    "print(\"MAE error:\", mean_absolute_error(testY_n, y_pred))\n",
    "print(\"MSE error:\", mean_squared_error(testY_n, y_pred))\n",
    "print(\"R2 score:\", r2_score(testY_n, y_pred))"
   ]
  },
  {
   "cell_type": "code",
   "execution_count": 54,
   "metadata": {},
   "outputs": [],
   "source": [
    "# Visualize"
   ]
  },
  {
   "cell_type": "code",
   "execution_count": 15,
   "metadata": {},
   "outputs": [
    {
     "name": "stdout",
     "output_type": "stream",
     "text": [
      "(1, 250, 2)\n"
     ]
    },
    {
     "data": {
      "image/png": "[encoded data removed]",
      "text/plain": [
       "<Figure size 864x648 with 3 Axes>"
      ]
     },
     "metadata": {},
     "output_type": "display_data"
    }
   ],
   "source": [
    "ix=10\n",
    "print(np.expand_dims(testX_n[ix,:], axis=0).shape)\n",
    "\n",
    "plt.figure(figsize=(12,9))\n",
    "ax = plt.subplot(3,1,1)\n",
    "ax.plot(testX_0_n[ix,:].reshape(1,-1).T, c=\"g\", label=\"PPG\")\n",
    "ax.legend()\n",
    "\n",
    "ax = plt.subplot(3,1,2)\n",
    "ax.plot(testX_1_n[ix,:].reshape(1,-1).T, c=\"g\", label=\"ECG\")\n",
    "plt.legend()\n",
    "\n",
    "\n",
    "ax = plt.subplot(3,1,3)\n",
    "ax.plot(model.predict(np.expand_dims(testX_n[ix,:], axis=0)).T, label=\"pred_ART\")\n",
    "ax.plot(testY_n[ix,:].reshape(1,-1).T, c=\"g\", label=\"real_ART\")\n",
    "ax.legend()\n",
    "\n",
    "plt.show()"
   ]
  },
  {
   "cell_type": "code",
   "execution_count": null,
   "metadata": {},
   "outputs": [],
   "source": []
  }
 ],
 "metadata": {
  "kernelspec": {
   "display_name": "Python 3",
   "language": "python",
   "name": "python3"
  },
  "language_info": {
   "codemirror_mode": {
    "name": "ipython",
    "version": 3
   },
   "file_extension": ".py",
   "mimetype": "text/x-python",
   "name": "python",
   "nbconvert_exporter": "python",
   "pygments_lexer": "ipython3",
   "version": "3.6.5"
  }
 },
 "nbformat": 4,
 "nbformat_minor": 2
}
