{
 "cells": [
  {
   "cell_type": "code",
   "execution_count": 1,
   "metadata": {
    "collapsed": true
   },
   "outputs": [],
   "source": [
    "reset -sf"
   ]
  },
  {
   "cell_type": "code",
   "execution_count": 2,
   "metadata": {},
   "outputs": [
    {
     "name": "stderr",
     "output_type": "stream",
     "text": [
      "/home/administrador/anaconda3/lib/python3.6/importlib/_bootstrap.py:219: RuntimeWarning: numpy.dtype size changed, may indicate binary incompatibility. Expected 96, got 88\n",
      "  return f(*args, **kwds)\n",
      "/home/administrador/anaconda3/lib/python3.6/site-packages/h5py/__init__.py:36: FutureWarning: Conversion of the second argument of issubdtype from `float` to `np.floating` is deprecated. In future, it will be treated as `np.float64 == np.dtype(float).type`.\n",
      "  from ._conv import register_converters as _register_converters\n",
      "Using TensorFlow backend.\n",
      "/home/administrador/anaconda3/lib/python3.6/importlib/_bootstrap.py:219: RuntimeWarning: numpy.dtype size changed, may indicate binary incompatibility. Expected 96, got 88\n",
      "  return f(*args, **kwds)\n",
      "/home/administrador/anaconda3/lib/python3.6/importlib/_bootstrap.py:219: RuntimeWarning: numpy.dtype size changed, may indicate binary incompatibility. Expected 96, got 88\n",
      "  return f(*args, **kwds)\n",
      "/home/administrador/anaconda3/lib/python3.6/importlib/_bootstrap.py:219: RuntimeWarning: numpy.dtype size changed, may indicate binary incompatibility. Expected 96, got 88\n",
      "  return f(*args, **kwds)\n",
      "/home/administrador/anaconda3/lib/python3.6/importlib/_bootstrap.py:219: RuntimeWarning: numpy.dtype size changed, may indicate binary incompatibility. Expected 96, got 88\n",
      "  return f(*args, **kwds)\n"
     ]
    }
   ],
   "source": [
    "import sys\n",
    "import os\n",
    "import numpy as np \n",
    "import pandas as pd\n",
    "from pathlib import Path\n",
    "\n",
    "# univariate mlp example\n",
    "from numpy import array\n",
    "\n",
    "from keras import optimizers\n",
    "from keras import regularizers\n",
    "from keras.models import Sequential\n",
    "from keras.layers import Dense, BatchNormalization, Conv1D, MaxPooling1D, Flatten, Dropout, GlobalMaxPooling1D, Input, add\n",
    "from keras import layers\n",
    "from keras.models import Model\n",
    "\n",
    "from sklearn.preprocessing import StandardScaler,MinMaxScaler\n",
    "from sklearn.externals import joblib \n",
    "import matplotlib.pyplot as plt"
   ]
  },
  {
   "cell_type": "code",
   "execution_count": 3,
   "metadata": {
    "collapsed": true
   },
   "outputs": [],
   "source": [
    "PATH = Path(\"../../data/\")"
   ]
  },
  {
   "cell_type": "code",
   "execution_count": 4,
   "metadata": {},
   "outputs": [
    {
     "name": "stdout",
     "output_type": "stream",
     "text": [
      "(8126, 2500) (8126, 1250)\n",
      "(1016, 2500) (1016, 1250)\n",
      "(1016, 2500) (1016, 1250)\n",
      "[1.0743 1.0802 1.1212 1.2092 1.35   1.5396 1.7664 2.0088 2.2473 2.4399]\n"
     ]
    }
   ],
   "source": [
    "dfX_Train = np.load(PATH/'train_x.npy')\n",
    "dfX_Val = np.load(PATH/'val_x.npy') \n",
    "dfX_Test = np.load(PATH/'test_x.npy')\n",
    "dfY_Train = np.load(PATH/'train_y.npy')\n",
    "dfY_Val = np.load(PATH/'val_y.npy')\n",
    "dfY_Test = np.load(PATH/'test_y.npy')\n",
    "print(dfX_Train.shape, dfY_Train.shape)\n",
    "print(dfX_Val.shape, dfY_Val.shape)\n",
    "print(dfX_Test.shape, dfY_Test.shape)\n",
    "print(dfX_Train[0,:10])"
   ]
  },
  {
   "cell_type": "code",
   "execution_count": 5,
   "metadata": {
    "collapsed": true
   },
   "outputs": [],
   "source": [
    "history=None\n",
    "freq = 125\n",
    "ini = 0 #freq\n",
    "dim = freq * 2\n",
    "ecg = 1250"
   ]
  },
  {
   "cell_type": "code",
   "execution_count": 6,
   "metadata": {},
   "outputs": [
    {
     "name": "stdout",
     "output_type": "stream",
     "text": [
      "[134.32   69.749]\n",
      "[167.73  69.31]\n",
      "[135.93   70.531]\n"
     ]
    }
   ],
   "source": [
    "#Compute max, min\n",
    "dfY_Train_sum = np.hstack((dfY_Train[:,ini:ini+dim].max(axis=1).reshape(-1,1), \n",
    "                           dfY_Train[:,ini:ini+dim].min(axis=1).reshape(-1,1), \n",
    "                           ))\n",
    "\n",
    "dfY_Val_sum = np.hstack((dfY_Val[:,ini:ini+dim].max(axis=1).reshape(-1,1), \n",
    "                           dfY_Val[:,ini:ini+dim].min(axis=1).reshape(-1,1), \n",
    "                           ))\n",
    "\n",
    "dfY_Test_sum = np.hstack((dfY_Test[:,ini:ini+dim].max(axis=1).reshape(-1,1), \n",
    "                           dfY_Test[:,ini:ini+dim].min(axis=1).reshape(-1,1), \n",
    "                           ))\n",
    "\n",
    "print(dfY_Train_sum[0])\n",
    "print(dfY_Val_sum[0])\n",
    "print(dfY_Test_sum[0])\n",
    "\n",
    "trainY_s = dfY_Train_sum\n",
    "valY_s = dfY_Val_sum\n",
    "testY_s = dfY_Test_sum"
   ]
  },
  {
   "cell_type": "code",
   "execution_count": 7,
   "metadata": {
    "collapsed": true
   },
   "outputs": [],
   "source": [
    "#Normalize Y\n",
    "rng = (dfY_Train[:,ini:ini+dim].max(axis=1) - dfY_Train[:,ini:ini+dim].min(axis=1))\n",
    "trainY_n = np.array([dfY_Train [:,i] - dfY_Train[:,ini:ini+dim].min(axis=1) \n",
    "                       for i in range(ini,ini+dim)]) / rng\n",
    "\n",
    "rng = (dfY_Val[:,ini:ini+dim].max(axis=1) - dfY_Val[:,ini:ini+dim].min(axis=1))\n",
    "valY_n = np.array([dfY_Val [:,i] - dfY_Val[:,ini:ini+dim].min(axis=1) \n",
    "                       for i in range(ini,ini+dim)]) / rng\n",
    "\n",
    "rng = (dfY_Test[:,ini:ini+dim].max(axis=1) - dfY_Test[:,ini:ini+dim].min(axis=1))\n",
    "testY_n = np.array([dfY_Test [:,i] - dfY_Test[:,ini:ini+dim].min(axis=1) \n",
    "                       for i in range(ini,ini+dim)]) / rng\n",
    "\n",
    "trainY_n = trainY_n.T\n",
    "valY_n = valY_n.T\n",
    "testY_n = testY_n.T "
   ]
  },
  {
   "cell_type": "code",
   "execution_count": 8,
   "metadata": {},
   "outputs": [
    {
     "name": "stdout",
     "output_type": "stream",
     "text": [
      "(8126, 250) (8126, 250)\n",
      "(1016, 250) (1016, 250)\n",
      "(1016, 250) (1016, 250)\n"
     ]
    }
   ],
   "source": [
    "#Normalize X\n",
    "rng = (dfX_Train[:,ini:ini+dim].max(axis=1) - dfX_Train[:,ini:ini+dim].min(axis=1))\n",
    "trainX_0_n = np.array([dfX_Train [:,i] - dfX_Train[:,ini:ini+dim].min(axis=1) \n",
    "                       for i in range(ini,ini+dim)]) / rng\n",
    "\n",
    "rng = (dfX_Train[:,ecg+ini:ini+ecg+dim].max(axis=1) - dfX_Train[:,ecg+ini:ini+ecg+dim].min(axis=1))\n",
    "trainX_1_n = np.array([dfX_Train [:,i] - dfX_Train[:,ini+ecg:ini+ecg+dim].min(axis=1) for i in range(ini+ecg,ini+ecg+dim)]) / rng\n",
    "\n",
    "rng = (dfX_Val[:,ini:ini+dim].max(axis=1) - dfX_Val[:,ini:ini+dim].min(axis=1))\n",
    "valX_0_n = np.array([dfX_Val [:,i] - dfX_Val[:,ini:ini+dim].min(axis=1) \n",
    "                       for i in range(ini,ini+dim)]) / rng\n",
    "\n",
    "rng = (dfX_Val[:,ecg+ini:ini+ecg+dim].max(axis=1) - dfX_Val[:,ecg+ini:ini+ecg+dim].min(axis=1))\n",
    "valX_1_n = np.array([dfX_Val [:,i] - dfX_Val[:,ini+ecg:ini+ecg+dim].min(axis=1) for i in range(ini+ecg,ini+ecg+dim)]) / rng\n",
    "\n",
    "rng = (dfX_Test[:,ini:ini+dim].max(axis=1) - dfX_Test[:,ini:ini+dim].min(axis=1))\n",
    "testX_0_n = np.array([dfX_Test [:,i] - dfX_Test[:,ini:ini+dim].min(axis=1) \n",
    "                       for i in range(ini,ini+dim)]) / rng\n",
    "\n",
    "rng = (dfX_Test[:,ecg+ini:ini+ecg+dim].max(axis=1) - dfX_Test[:,ecg+ini:ini+ecg+dim].min(axis=1))\n",
    "testX_1_n = np.array([dfX_Test [:,i] - dfX_Test[:,ini+ecg:ini+ecg+dim].min(axis=1) for i in range(ini+ecg,ini+ecg+dim)]) / rng\n",
    "\n",
    "trainX_0_n = trainX_0_n.T\n",
    "trainX_1_n = trainX_1_n.T\n",
    "valX_0_n = valX_0_n.T\n",
    "valX_1_n = valX_1_n.T\n",
    "testX_0_n = testX_0_n.T \n",
    "testX_1_n = testX_1_n.T\n",
    "\n",
    "print(trainX_0_n.shape,trainX_1_n.shape)\n",
    "print(valX_0_n.shape,valX_1_n.shape)\n",
    "print(testX_0_n.shape,testX_1_n.shape)"
   ]
  },
  {
   "cell_type": "code",
   "execution_count": 9,
   "metadata": {},
   "outputs": [
    {
     "name": "stdout",
     "output_type": "stream",
     "text": [
      "(8126, 250, 2) (1016, 250, 2) (1016, 250, 2) (8126, 250) (1016, 250) (1016, 250)\n"
     ]
    }
   ],
   "source": [
    "trainX_n = np.stack((trainX_0_n, trainX_1_n), axis=2)\n",
    "valX_n = np.stack((valX_0_n,valX_1_n), axis=2)\n",
    "testX_n = np.stack((testX_0_n, testX_1_n), axis=2)\n",
    "\n",
    "print(trainX_n.shape, valX_n.shape, testX_n.shape, trainY_n.shape, valY_n.shape, testY_n.shape)"
   ]
  },
  {
   "cell_type": "code",
   "execution_count": 10,
   "metadata": {
    "collapsed": true
   },
   "outputs": [],
   "source": [
    "#Load"
   ]
  },
  {
   "cell_type": "code",
   "execution_count": 11,
   "metadata": {},
   "outputs": [
    {
     "name": "stdout",
     "output_type": "stream",
     "text": [
      "Loaded model from disk\n"
     ]
    }
   ],
   "source": [
    "from keras.models import model_from_json\n",
    "\n",
    "# load json and create model\n",
    "json_file = open('conv1d_hm.json', 'r')\n",
    "loaded_model_json = json_file.read()\n",
    "json_file.close()\n",
    "\n",
    "model_hm = model_from_json(loaded_model_json)\n",
    "model_hm.load_weights(\"conv1d_hm.h5\")\n",
    "print(\"Loaded model from disk\")"
   ]
  },
  {
   "cell_type": "code",
   "execution_count": 12,
   "metadata": {},
   "outputs": [
    {
     "name": "stdout",
     "output_type": "stream",
     "text": [
      "Loaded model from disk\n"
     ]
    }
   ],
   "source": [
    "# load json and create model\n",
    "json_file = open('conv1d.json', 'r')\n",
    "loaded_model_json = json_file.read()\n",
    "json_file.close()\n",
    "\n",
    "model = model_from_json(loaded_model_json)\n",
    "model.load_weights(\"conv1d.h5\")\n",
    "print(\"Loaded model from disk\")"
   ]
  },
  {
   "cell_type": "code",
   "execution_count": 13,
   "metadata": {
    "collapsed": true
   },
   "outputs": [],
   "source": [
    "#Evaluation"
   ]
  },
  {
   "cell_type": "code",
   "execution_count": 14,
   "metadata": {
    "collapsed": true
   },
   "outputs": [],
   "source": [
    "y_pred = []\n",
    "for ix in range(testX_n.shape[0]):\n",
    "    y_pred.append(model.predict([np.expand_dims(testX_n[ix,:].reshape(250,2),0)]))"
   ]
  },
  {
   "cell_type": "code",
   "execution_count": 15,
   "metadata": {},
   "outputs": [
    {
     "name": "stdout",
     "output_type": "stream",
     "text": [
      "(1016, 250) (1016, 250)\n",
      "Test error analysis:\n",
      "Explained variance score: 0.7369468164276015\n",
      "MAE error: 0.11385018394813488\n",
      "MSE error: 0.02610743472947844\n",
      "R2 score: 0.7339271174636147\n"
     ]
    },
    {
     "name": "stderr",
     "output_type": "stream",
     "text": [
      "/home/administrador/anaconda3/lib/python3.6/importlib/_bootstrap.py:219: RuntimeWarning: numpy.dtype size changed, may indicate binary incompatibility. Expected 96, got 88\n",
      "  return f(*args, **kwds)\n"
     ]
    }
   ],
   "source": [
    "from sklearn.metrics import explained_variance_score, mean_absolute_error, mean_squared_error, r2_score\n",
    "\n",
    "y_pred = np.array(y_pred).reshape(-1,250)\n",
    "print(y_pred.shape, testY_n.shape)\n",
    "print(\"Test error analysis:\")\n",
    "print(\"Explained variance score:\", explained_variance_score(testY_n, y_pred))\n",
    "print(\"MAE error:\", mean_absolute_error(testY_n, y_pred))\n",
    "print(\"MSE error:\", mean_squared_error(testY_n, y_pred))\n",
    "print(\"R2 score:\", r2_score(testY_n, y_pred))"
   ]
  },
  {
   "cell_type": "code",
   "execution_count": 16,
   "metadata": {
    "collapsed": true
   },
   "outputs": [],
   "source": [
    "#Predict [max, min]"
   ]
  },
  {
   "cell_type": "code",
   "execution_count": 17,
   "metadata": {
    "collapsed": true
   },
   "outputs": [],
   "source": [
    "y_pred_stats = []\n",
    "for ix in range(testX_n.shape[0]):\n",
    "    y_pred_stats.append(model_hm.predict([np.expand_dims(testX_n[ix,:].reshape(250,2),0)]))"
   ]
  },
  {
   "cell_type": "code",
   "execution_count": 18,
   "metadata": {},
   "outputs": [
    {
     "name": "stdout",
     "output_type": "stream",
     "text": [
      "(1016, 2) (1016, 2)\n",
      "Test error analysis:\n",
      "Explained variance score: 0.05330029854554491\n",
      "MAE error: 12.573775065294384\n",
      "MSE error: 297.6106609911296\n",
      "R2 score: 0.003930234379871833\n"
     ]
    }
   ],
   "source": [
    "y_pred_stats = np.array(y_pred_stats).reshape(-1,2)\n",
    "print(y_pred_stats.shape, testY_s.shape)\n",
    "print(\"Test error analysis:\")\n",
    "print(\"Explained variance score:\", explained_variance_score(testY_s, y_pred_stats))\n",
    "print(\"MAE error:\", mean_absolute_error(testY_s, y_pred_stats))\n",
    "print(\"MSE error:\", mean_squared_error(testY_s, y_pred_stats))\n",
    "print(\"R2 score:\", r2_score(testY_s, y_pred_stats))"
   ]
  },
  {
   "cell_type": "code",
   "execution_count": 19,
   "metadata": {
    "collapsed": true
   },
   "outputs": [],
   "source": [
    "#Combined"
   ]
  },
  {
   "cell_type": "code",
   "execution_count": 20,
   "metadata": {},
   "outputs": [
    {
     "name": "stdout",
     "output_type": "stream",
     "text": [
      "(1016, 2)\n",
      "(1016, 250)\n",
      "(1016, 250)\n"
     ]
    }
   ],
   "source": [
    "print(y_pred_stats.shape)\n",
    "print(y_pred.shape)\n",
    "y_pred_combined = (y_pred * (y_pred_stats[:,0] - y_pred_stats[:,1]).reshape(-1,1)) + y_pred_stats[:,1].reshape(-1,1)\n",
    "print(y_pred_combined.shape)"
   ]
  },
  {
   "cell_type": "code",
   "execution_count": 21,
   "metadata": {},
   "outputs": [
    {
     "name": "stdout",
     "output_type": "stream",
     "text": [
      "(1016, 250) (1016, 250)\n",
      "Test error analysis:\n",
      "Explained variance score: 0.50846569259504\n",
      "MAE error: 13.176705312532443\n",
      "MSE error: 323.943152345994\n",
      "R2 score: 0.4850187281262115\n"
     ]
    }
   ],
   "source": [
    "testY = dfY_Test[:,ini:ini+dim]\n",
    "print(y_pred.shape, testY.shape)\n",
    "print(\"Test error analysis:\")\n",
    "print(\"Explained variance score:\", explained_variance_score(testY, y_pred_combined))\n",
    "print(\"MAE error:\", mean_absolute_error(testY, y_pred_combined))\n",
    "print(\"MSE error:\", mean_squared_error(testY, y_pred_combined))\n",
    "print(\"R2 score:\", r2_score(testY, y_pred_combined))"
   ]
  },
  {
   "cell_type": "code",
   "execution_count": null,
   "metadata": {
    "collapsed": true
   },
   "outputs": [],
   "source": [
    "#Save results"
   ]
  },
  {
   "cell_type": "code",
   "execution_count": 27,
   "metadata": {
    "collapsed": true
   },
   "outputs": [],
   "source": [
    "pd.DataFrame(y_pred_combined).to_csv(\"bp_predicted.csv\")\n",
    "pd.DataFrame(testY).to_csv(\"bp_real.csv\")"
   ]
  },
  {
   "cell_type": "code",
   "execution_count": 22,
   "metadata": {
    "collapsed": true
   },
   "outputs": [],
   "source": [
    "# Visualize"
   ]
  },
  {
   "cell_type": "code",
   "execution_count": 23,
   "metadata": {},
   "outputs": [
    {
     "name": "stdout",
     "output_type": "stream",
     "text": [
      "Pred: max - 127.151115 min - 61.811287\n",
      "Real: max - 124.94 min - 56.36600000000001\n"
     ]
    }
   ],
   "source": [
    "ix = 12\n",
    "mx, mn = model_hm.predict([np.expand_dims(testX_n[ix,:].reshape(250,2),0)])[0]\n",
    "print(\"Pred: max -\",mx, \"min -\", mn)\n",
    "print(\"Real: max -\",dfY_Test[ix,ini:ini+dim].max(), \"min -\", dfY_Test[ix,ini:ini+dim].min())\n",
    "\n",
    "norm_ix = model.predict(np.expand_dims(testX_n[ix,:], axis=0))\n",
    "denorm_ix = (norm_ix * (mx-mn)) + mn"
   ]
  },
  {
   "cell_type": "code",
   "execution_count": 24,
   "metadata": {},
   "outputs": [
    {
     "data": {
      "image/png": "[encoded data removed]",
      "text/plain": [
       "<Figure size 864x648 with 4 Axes>"
      ]
     },
     "metadata": {},
     "output_type": "display_data"
    }
   ],
   "source": [
    "plt.figure(figsize=(12,9))\n",
    "ax = plt.subplot(4,1,1)\n",
    "ax.plot(testX_0_n[ix,:].reshape(1,-1).T, c=\"g\", label=\"PPG\")\n",
    "ax.legend()\n",
    "\n",
    "ax = plt.subplot(4,1,2)\n",
    "ax.plot(testX_1_n[ix,:].reshape(1,-1).T, c=\"g\", label=\"ECG\")\n",
    "plt.legend()\n",
    "\n",
    "\n",
    "ax = plt.subplot(4,1,3)\n",
    "ax.plot(norm_ix.T, label=\"pred_ART\")\n",
    "ax.plot(testY_n[ix,:].reshape(1,-1).T, c=\"g\", label=\"real_ART\")\n",
    "ax.legend()\n",
    "\n",
    "ax = plt.subplot(4,1,4)\n",
    "ax.plot(denorm_ix.T, label=\"pred_ART\")\n",
    "ax.plot(dfY_Test[ix,ini:ini+dim].reshape(1,-1).T, c=\"g\", label=\"real_ART\")\n",
    "ax.legend()\n",
    "\n",
    "plt.show()"
   ]
  },
  {
   "cell_type": "code",
   "execution_count": null,
   "metadata": {
    "collapsed": true
   },
   "outputs": [],
   "source": []
  }
 ],
 "metadata": {
  "kernelspec": {
   "display_name": "Python 3",
   "language": "python",
   "name": "python3"
  },
  "language_info": {
   "codemirror_mode": {
    "name": "ipython",
    "version": 3
   },
   "file_extension": ".py",
   "mimetype": "text/x-python",
   "name": "python",
   "nbconvert_exporter": "python",
   "pygments_lexer": "ipython3",
   "version": "3.6.5"
  }
 },
 "nbformat": 4,
 "nbformat_minor": 2
}
