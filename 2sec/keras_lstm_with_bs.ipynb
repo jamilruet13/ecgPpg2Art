{
 "cells": [
  {
   "cell_type": "code",
   "execution_count": 1,
   "metadata": {
    "collapsed": true
   },
   "outputs": [],
   "source": [
    "reset -sf"
   ]
  },
  {
   "cell_type": "code",
   "execution_count": 2,
   "metadata": {},
   "outputs": [
    {
     "name": "stderr",
     "output_type": "stream",
     "text": [
      "/home/administrador/anaconda3/envs/deeplung/lib/python3.6/site-packages/h5py/__init__.py:36: FutureWarning: Conversion of the second argument of issubdtype from `float` to `np.floating` is deprecated. In future, it will be treated as `np.float64 == np.dtype(float).type`.\n",
      "  from ._conv import register_converters as _register_converters\n",
      "Using TensorFlow backend.\n"
     ]
    }
   ],
   "source": [
    "import sys\n",
    "import os\n",
    "import numpy as np \n",
    "import pandas as pd\n",
    "from pathlib import Path\n",
    "\n",
    "# univariate mlp example\n",
    "from numpy import array\n",
    "\n",
    "from keras import optimizers\n",
    "from keras import regularizers\n",
    "from keras.models import Sequential\n",
    "from keras.layers import Dense, BatchNormalization, Conv1D, MaxPooling1D, Flatten, Dropout, LSTM\n",
    "\n",
    "from sklearn.preprocessing import StandardScaler,MinMaxScaler\n",
    "from sklearn.externals import joblib \n",
    "\n",
    "import matplotlib.pyplot as plt"
   ]
  },
  {
   "cell_type": "code",
   "execution_count": 3,
   "metadata": {
    "collapsed": true
   },
   "outputs": [],
   "source": [
    "PATH = Path(\"../../data/\")"
   ]
  },
  {
   "cell_type": "code",
   "execution_count": 4,
   "metadata": {},
   "outputs": [
    {
     "name": "stderr",
     "output_type": "stream",
     "text": [
      "/home/administrador/anaconda3/envs/deeplung/lib/python3.6/site-packages/sklearn/base.py:311: UserWarning: Trying to unpickle estimator StandardScaler from version 0.20.1 when using version 0.19.1. This might lead to breaking code or invalid results. Use at your own risk.\n",
      "  UserWarning)\n"
     ]
    }
   ],
   "source": [
    "scaler = joblib.load(PATH/'train_scaler_x.pkl')"
   ]
  },
  {
   "cell_type": "code",
   "execution_count": 5,
   "metadata": {},
   "outputs": [
    {
     "name": "stdout",
     "output_type": "stream",
     "text": [
      "(8126, 2500) (8126, 1250)\n",
      "(1016, 2500) (1016, 1250)\n",
      "(1016, 2500) (1016, 1250)\n",
      "[1.0743 1.0802 1.1212 1.2092 1.35   1.5396 1.7664 2.0088 2.2473 2.4399]\n"
     ]
    }
   ],
   "source": [
    "dfX_Train = np.load(PATH/'train_x.npy')\n",
    "dfX_Val = np.load(PATH/'val_x.npy') \n",
    "dfX_Test = np.load(PATH/'test_x.npy')\n",
    "dfY_Train = np.load(PATH/'train_y.npy')\n",
    "dfY_Val = np.load(PATH/'val_y.npy')\n",
    "dfY_Test = np.load(PATH/'test_y.npy')\n",
    "print(dfX_Train.shape, dfY_Train.shape)\n",
    "print(dfX_Val.shape, dfY_Val.shape)\n",
    "print(dfX_Test.shape, dfY_Test.shape)\n",
    "print(dfX_Train[0,:10])"
   ]
  },
  {
   "cell_type": "code",
   "execution_count": 6,
   "metadata": {
    "collapsed": true
   },
   "outputs": [],
   "source": [
    "history=None\n",
    "freq = 125\n",
    "ini = 0 #freq\n",
    "dim = freq * 2\n",
    "ecg = 1250"
   ]
  },
  {
   "cell_type": "code",
   "execution_count": 7,
   "metadata": {
    "collapsed": true
   },
   "outputs": [],
   "source": [
    "#Normalize Y\n",
    "rng = (dfY_Train[:,ini:ini+dim].max(axis=1) - dfY_Train[:,ini:ini+dim].min(axis=1))\n",
    "trainY_n = np.array([dfY_Train [:,i] - dfY_Train[:,ini:ini+dim].min(axis=1) \n",
    "                       for i in range(ini,ini+dim)]) / rng\n",
    "\n",
    "rng = (dfY_Val[:,ini:ini+dim].max(axis=1) - dfY_Val[:,ini:ini+dim].min(axis=1))\n",
    "valY_n = np.array([dfY_Val [:,i] - dfY_Val[:,ini:ini+dim].min(axis=1) \n",
    "                       for i in range(ini,ini+dim)]) / rng\n",
    "\n",
    "rng = (dfY_Test[:,ini:ini+dim].max(axis=1) - dfY_Test[:,ini:ini+dim].min(axis=1))\n",
    "testY_n = np.array([dfY_Test [:,i] - dfY_Test[:,ini:ini+dim].min(axis=1) \n",
    "                       for i in range(ini,ini+dim)]) / rng\n",
    "\n",
    "trainY_n = trainY_n.T\n",
    "valY_n = valY_n.T\n",
    "testY_n = testY_n.T "
   ]
  },
  {
   "cell_type": "code",
   "execution_count": 8,
   "metadata": {},
   "outputs": [
    {
     "name": "stdout",
     "output_type": "stream",
     "text": [
      "(8126, 250) (8126, 250)\n",
      "(1016, 250) (1016, 250)\n",
      "(1016, 250) (1016, 250)\n"
     ]
    }
   ],
   "source": [
    "#Normalize X\n",
    "rng = (dfX_Train[:,ini:ini+dim].max(axis=1) - dfX_Train[:,ini:ini+dim].min(axis=1))\n",
    "trainX_0_n = np.array([dfX_Train [:,i] - dfX_Train[:,ini:ini+dim].min(axis=1) \n",
    "                       for i in range(ini,ini+dim)]) / rng\n",
    "\n",
    "rng = (dfX_Train[:,ecg+ini:ini+ecg+dim].max(axis=1) - dfX_Train[:,ecg+ini:ini+ecg+dim].min(axis=1))\n",
    "trainX_1_n = np.array([dfX_Train [:,i] - dfX_Train[:,ini+ecg:ini+ecg+dim].min(axis=1) for i in range(ini+ecg,ini+ecg+dim)]) / rng\n",
    "\n",
    "rng = (dfX_Val[:,ini:ini+dim].max(axis=1) - dfX_Val[:,ini:ini+dim].min(axis=1))\n",
    "valX_0_n = np.array([dfX_Val [:,i] - dfX_Val[:,ini:ini+dim].min(axis=1) \n",
    "                       for i in range(ini,ini+dim)]) / rng\n",
    "\n",
    "rng = (dfX_Val[:,ecg+ini:ini+ecg+dim].max(axis=1) - dfX_Val[:,ecg+ini:ini+ecg+dim].min(axis=1))\n",
    "valX_1_n = np.array([dfX_Val [:,i] - dfX_Val[:,ini+ecg:ini+ecg+dim].min(axis=1) for i in range(ini+ecg,ini+ecg+dim)]) / rng\n",
    "\n",
    "rng = (dfX_Test[:,ini:ini+dim].max(axis=1) - dfX_Test[:,ini:ini+dim].min(axis=1))\n",
    "testX_0_n = np.array([dfX_Test [:,i] - dfX_Test[:,ini:ini+dim].min(axis=1) \n",
    "                       for i in range(ini,ini+dim)]) / rng\n",
    "\n",
    "rng = (dfX_Test[:,ecg+ini:ini+ecg+dim].max(axis=1) - dfX_Test[:,ecg+ini:ini+ecg+dim].min(axis=1))\n",
    "testX_1_n = np.array([dfX_Test [:,i] - dfX_Test[:,ini+ecg:ini+ecg+dim].min(axis=1) for i in range(ini+ecg,ini+ecg+dim)]) / rng\n",
    "\n",
    "trainX_0_n = trainX_0_n.T\n",
    "trainX_1_n = trainX_1_n.T\n",
    "valX_0_n = valX_0_n.T\n",
    "valX_1_n = valX_1_n.T\n",
    "testX_0_n = testX_0_n.T \n",
    "testX_1_n = testX_1_n.T\n",
    "\n",
    "print(trainX_0_n.shape,trainX_1_n.shape)\n",
    "print(valX_0_n.shape,valX_1_n.shape)\n",
    "print(testX_0_n.shape,testX_1_n.shape)"
   ]
  },
  {
   "cell_type": "code",
   "execution_count": 9,
   "metadata": {},
   "outputs": [
    {
     "name": "stdout",
     "output_type": "stream",
     "text": [
      "(8126, 250, 2) (1016, 250, 2) (1016, 250, 2) (8126, 250) (1016, 250) (1016, 250)\n"
     ]
    }
   ],
   "source": [
    "trainX_n = np.stack((trainX_0_n, trainX_1_n), axis=2)\n",
    "valX_n = np.stack((valX_0_n,valX_1_n), axis=2)\n",
    "testX_n = np.stack((testX_0_n, testX_1_n), axis=2)\n",
    "\n",
    "print(trainX_n.shape, valX_n.shape, testX_n.shape, trainY_n.shape, valY_n.shape, testY_n.shape)"
   ]
  },
  {
   "cell_type": "code",
   "execution_count": 44,
   "metadata": {},
   "outputs": [
    {
     "name": "stdout",
     "output_type": "stream",
     "text": [
      "_________________________________________________________________\n",
      "Layer (type)                 Output Shape              Param #   \n",
      "=================================================================\n",
      "lstm_10 (LSTM)               (64, 256)                 265216    \n",
      "_________________________________________________________________\n",
      "dense_9 (Dense)              (64, 250)                 64250     \n",
      "=================================================================\n",
      "Total params: 329,466\n",
      "Trainable params: 329,466\n",
      "Non-trainable params: 0\n",
      "_________________________________________________________________\n"
     ]
    }
   ],
   "source": [
    "#bs=100\n",
    "#look_back = 125*5\n",
    "model = Sequential()\n",
    "model.add(LSTM(256, batch_input_shape=(64,dim,2),dropout=0.3, stateful=True)) #, return_sequences=True))\n",
    "#model.add(LSTM(150, dropout=0.4, stateful=True))\n",
    "#model.add(Flatten())\n",
    "model.add(Dense(dim))\n",
    "model.summary()"
   ]
  },
  {
   "cell_type": "code",
   "execution_count": 47,
   "metadata": {
    "scrolled": true
   },
   "outputs": [
    {
     "name": "stdout",
     "output_type": "stream",
     "text": [
      "Train on 8000 samples, validate on 960 samples\n",
      "Epoch 1/1\n",
      "8000/8000 [==============================] - 47s 6ms/step - loss: 0.0298 - val_loss: 0.0237\n",
      "Train on 8000 samples, validate on 960 samples\n",
      "Epoch 1/1\n",
      "8000/8000 [==============================] - 45s 6ms/step - loss: 0.0293 - val_loss: 0.0236\n",
      "Train on 8000 samples, validate on 960 samples\n",
      "Epoch 1/1\n",
      "8000/8000 [==============================] - 45s 6ms/step - loss: 0.0290 - val_loss: 0.0237\n",
      "Train on 8000 samples, validate on 960 samples\n",
      "Epoch 1/1\n",
      "8000/8000 [==============================] - 46s 6ms/step - loss: 0.0290 - val_loss: 0.0239\n",
      "Train on 8000 samples, validate on 960 samples\n",
      "Epoch 1/1\n",
      "8000/8000 [==============================] - 45s 6ms/step - loss: 0.0285 - val_loss: 0.0243\n"
     ]
    }
   ],
   "source": [
    "# fit model\n",
    "history = []\n",
    "model.compile(optimizer=optimizers.Adam(lr=1e-4), loss='mse')\n",
    "for i in range(5):\n",
    "    history.append(model.fit(trainX_n[:8000], trainY_n[:8000], validation_data=(valX_n[:960], valY_n[:960]), \n",
    "                        batch_size= 64, epochs=1, verbose=1))\n",
    "    model.reset_states()"
   ]
  },
  {
   "cell_type": "code",
   "execution_count": 16,
   "metadata": {},
   "outputs": [
    {
     "data": {
      "image/png": "[encoded data removed]",
      "text/plain": [
       "<Figure size 432x288 with 1 Axes>"
      ]
     },
     "metadata": {},
     "output_type": "display_data"
    }
   ],
   "source": [
    "plt.figure(figsize=(12,5))\n",
    "for i in range(2):\n",
    "    if i == 0:\n",
    "        if history_prev is None:\n",
    "            continue\n",
    "        else:\n",
    "            hist = history_prev\n",
    "    else:\n",
    "        hist = history\n",
    "        \n",
    "    loss = hist.history[\"loss\"]\n",
    "    val_loss = hist.history[\"val_loss\"]\n",
    "    epochs = range(1, len(loss) +1)\n",
    "    ax = plt.subplot(1,2,1+i)\n",
    "    ax.plot(epochs, loss, label=\"train\")\n",
    "    ax.plot(epochs, val_loss, label=\"validation\")\n",
    "    ax.set_xticks(epochs, epochs)\n",
    "    ax.set_ylim(0.0,1.0)\n",
    "    ax.legend()\n",
    "\n",
    "plt.show()"
   ]
  },
  {
   "cell_type": "code",
   "execution_count": null,
   "metadata": {
    "collapsed": true
   },
   "outputs": [],
   "source": [
    "#Save"
   ]
  },
  {
   "cell_type": "code",
   "execution_count": 54,
   "metadata": {
    "collapsed": true
   },
   "outputs": [],
   "source": [
    "model.save_weights('lstm_sc.h5')\n",
    "with open('lstm_sc.json', 'w') as f:\n",
    "    f.write(model.to_json())"
   ]
  },
  {
   "cell_type": "code",
   "execution_count": null,
   "metadata": {
    "collapsed": true
   },
   "outputs": [],
   "source": [
    "#Evaluation"
   ]
  },
  {
   "cell_type": "code",
   "execution_count": 49,
   "metadata": {
    "collapsed": true
   },
   "outputs": [],
   "source": [
    "y_pred = []\n",
    "y_pred = model.predict(testX_n[:960],batch_size=64)"
   ]
  },
  {
   "cell_type": "code",
   "execution_count": 50,
   "metadata": {},
   "outputs": [
    {
     "name": "stdout",
     "output_type": "stream",
     "text": [
      "(960, 250) (1016, 250)\n",
      "Test error analysis:\n",
      "Explained variance score: 0.6855665762734402\n",
      "MAE error: 0.12436597553729496\n",
      "MSE error: 0.031114828786929723\n",
      "R2 score: 0.6843756103869341\n"
     ]
    }
   ],
   "source": [
    "from sklearn.metrics import explained_variance_score, mean_absolute_error, mean_squared_error, r2_score\n",
    "\n",
    "#y_pred = np.array(y_pred).reshape(-1,250)\n",
    "print(y_pred.shape, testY_n.shape)\n",
    "print(\"Test error analysis:\")\n",
    "print(\"Explained variance score:\", explained_variance_score(testY_n[:960], y_pred))\n",
    "print(\"MAE error:\", mean_absolute_error(testY_n[:960], y_pred))\n",
    "print(\"MSE error:\", mean_squared_error(testY_n[:960], y_pred))\n",
    "print(\"R2 score:\", r2_score(testY_n[:960], y_pred))"
   ]
  },
  {
   "cell_type": "code",
   "execution_count": null,
   "metadata": {
    "collapsed": true
   },
   "outputs": [],
   "source": [
    "# Visualize"
   ]
  },
  {
   "cell_type": "code",
   "execution_count": 53,
   "metadata": {},
   "outputs": [
    {
     "name": "stdout",
     "output_type": "stream",
     "text": [
      "(1, 250, 2)\n"
     ]
    },
    {
     "data": {
      "image/png": "[encoded data removed]",
      "text/plain": [
       "<Figure size 864x648 with 3 Axes>"
      ]
     },
     "metadata": {},
     "output_type": "display_data"
    }
   ],
   "source": [
    "ix=10\n",
    "print(np.expand_dims(testX_n[ix,:], axis=0).shape)\n",
    "\n",
    "plt.figure(figsize=(12,9))\n",
    "ax = plt.subplot(3,1,1)\n",
    "ax.plot(testX_0_n[ix,:].reshape(1,-1).T, c=\"g\", label=\"PPG\")\n",
    "ax.legend()\n",
    "\n",
    "ax = plt.subplot(3,1,2)\n",
    "ax.plot(testX_1_n[ix,:].reshape(1,-1).T, c=\"g\", label=\"ECG\")\n",
    "plt.legend()\n",
    "\n",
    "\n",
    "ax = plt.subplot(3,1,3)\n",
    "ax.plot(model.predict(testX_n[:64,:], batch_size=64)[ix].T, label=\"pred_ART\")\n",
    "ax.plot(testY_n[ix,:].reshape(1,-1).T, c=\"g\", label=\"real_ART\")\n",
    "ax.legend()\n",
    "\n",
    "plt.show()"
   ]
  },
  {
   "cell_type": "code",
   "execution_count": null,
   "metadata": {
    "collapsed": true
   },
   "outputs": [],
   "source": []
  }
 ],
 "metadata": {
  "kernelspec": {
   "display_name": "Python 3",
   "language": "python",
   "name": "python3"
  },
  "language_info": {
   "codemirror_mode": {
    "name": "ipython",
    "version": 3
   },
   "file_extension": ".py",
   "mimetype": "text/x-python",
   "name": "python",
   "nbconvert_exporter": "python",
   "pygments_lexer": "ipython3",
   "version": "3.6.5"
  }
 },
 "nbformat": 4,
 "nbformat_minor": 2
}
